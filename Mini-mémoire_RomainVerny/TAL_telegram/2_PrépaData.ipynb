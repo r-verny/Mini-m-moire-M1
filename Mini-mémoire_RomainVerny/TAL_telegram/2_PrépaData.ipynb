{
 "cells": [
  {
   "cell_type": "markdown",
   "metadata": {},
   "source": [
    "### Modifications effectuées manuellement :\n",
    "- Suppression des deux premières lignes de chaque fichier (ligne vide et ligne titre)\n",
    "- Suppression des messages qui sont des traductions de messages en français\n",
    "- Division du corpus selon les 3 moments de la dissolution"
   ]
  },
  {
   "cell_type": "markdown",
   "metadata": {},
   "source": [
    "## Objectifs de ce notebook\n",
    "- Mettre les différents fichiers séparés dans un dataframe\n",
    "- Lemmatiser le corpus\n",
    "- Nettoyer le corpus des caractères spéciaux, majuscules, sauts de lignes, stopwords etc."
   ]
  },
  {
   "cell_type": "code",
   "execution_count": 43,
   "metadata": {
    "scrolled": true
   },
   "outputs": [
    {
     "data": {
      "text/plain": [
       "{'GI_pré-dissolution': 'Bonne année à tous ! Que 2021 soit une excellente année pour tous les défenseurs de l\\'identité. A l\\'abordage !\\n📢 Le vrai visage de ceux qui demandent la dissolution de Génération Identitaire et la fermeture de la Traboule, votre maison de l’identité ⬇️\\nEn 2012, Génération Identitaire s\\'était fait connaître grâce à cette vidéo ⬆️ intitulée \"La Déclaration de Guerre\". Connaissant un très vif succès en France, elle avait ensuite été spontanément traduite dans différents pays européens. Cet élan avait participé ainsi au développement du mouvement identitaire sur tout notre continent.\\nGavées d’argent public, les Minguettes restent un bastion de l’islam radical La Cour des Comptes dénonce dans un récent rapport le séparatisme en cours dans le quartier des Minguettes à Vénissieux, et décrit ce quartier comme « l’un des bastions de l’islam fondamentaliste\\xa0» en France. Malgré la fermeture de deux mosquées salafistes suite aux attentats de Paris en 2015, ce quartier reste l’épicentre de l’idéologie islamiste dans la région lyonnaise.\\xa0Cette situation est un terrible aveu d’échec pour toute la «\\xa0politique de la ville\\xa0» qui a coûté des milliards d’euros aux Français depuis des décennies. Ce quartier a englouti des centaines de millions d’euros pour équiper, rénover, moderniser, en espérant réussir à intégrer les populations issues de l’immigration qui y vivent. On y trouve métro, piscine, école de musique, cinéma, infrastructures sportives, hôpital. Le PNRU (Plan National de Renouvellement Urbain) achevé en 2015 a ainsi coûté 178 millions d’euros, quand celui prévu pour 2035 vise un budget de 555 millions d’euros. Des années après, la situation ne s’améliore donc pas, mais se dégrade.\\xa0\\xa0\\xa0Génération Identitaire dénonce la folie de la politique de la ville et de ses échecs.\\xa0Contre la partition du pays, l’État et les collectivités locales ne doivent plus subventionner les enclaves islamistes mais régler durablement la question de l’immigration et de l’islamisation. Aucun «\\xa0plan banlieue\\xa0à 100 milliards\\xa0» ne réglera le problème du Grand Remplacement.\\xa0Seule une politique ambitieuse de remigration sera à même de protéger les Français et les Lyonnais sur le long terme.\\xa0📢 Retrouvez ici nos 30 mesures pour une politique d’identité et de remigration aux éditions IDées :\\n⬇️ Article du Progrès sur ce sujet à lire :\\nGénération Identitaire Paris vous invite à rejoindre le rassemblement en hommage à Sainte Geneviève organisé à Paris le samedi 16 janvier prochain par l’association Paris Fierté. Soyons nombreux pour honorer la sainte patronne de Paris\\xa0!\\n🤝 Ce soir, les militants identitaires normands étaient dans les rues de Rouen pour distribuer de la nourriture, des vêtements et du café aux nôtres qui dorment dans la rue, oubliés par les pouvoirs publics toujours plus prompts à aider les clandestins. Défend ton peuple, rejoins nous 👉\\nCe matin plusieurs militants toulousains se sont retrouvés pour sticker dans la ville, et rappeler aux passants quelques messages clairs. Nos slogans s’affichent jusque dans ta rue ! ➡️ Rejoins la jeunesse de l’action, contacte\\nRejoignez-nous 👇\\nAu même moment, d’autres identitaires de la fédération toulousaine sont venus prêter main forte aux jeunes albigeois pour coller nos affiches. Génération identitaire est sur tous les fronts, rejoins la première ligne !  ➡️ Contacte\\nRejoignez-nous 👇\\nParis Fierté honorera Sainte Geneviève le 16 janvierParis Vox – A l’initiative de Paris Fierté, les parisiens honorent chaque année la mémoire de Sainte Geneviève, Sainte Patronne de la ville de Paris. En cette année où les restrictions sont particulièrement nombreuses, l’association a renoncé à organiser sa journée festive comme c’est la tradition habituellement. Les amoureux de Paris sont cependant conviés à…\\nVous êtes déjà 1007 à suivre cette chaîne Telegram 🤩 Un grand merci à vous. Restons optimistes, nous avons un noyau dur réactif et engagé ! Ce sont les minorités actives qui font l’Histoire.Je posterai ma vidéo sur la censure demain, sur mon instagram et ici même. (Je suis interdite de publication pendant 7 jours sur facebook)Ne jamais baisser les bras 💪🏻\\n📢 Stickage des identitaires lyonnais autour des lycées du 5e arrondissement. Tu es français, européen et tu en es fier ? En 2021, rejoins Génération Identitaire !➡️ Contact via\\nPremier collage de la fédération d’Annecy en 2021 !🟥 Pour nous contacter ➡️\\nChangement d’horaire pour l’hommage à Sainte Geneviève, RDV à 16h place du Panthéon.\\nInfos et vidéos exclusives, actualités et propos sans concessions au politiquement correct vous attendent ici 👇👇➡️ Abonnez-vous MAINTENANT à la nouvelle chaîne Telegram de Thaïs Descufon et PARTAGEZ-la !\\nCollage ce matin à Aix-en-Provence !➡️ Rejoins-nous, contacte maintenant\\nHommage à Sainte Geneviève\\nPlus de 200 personnes se sont rassemblées samedi pour rendre hommage à Sainte Geneviève. Malgré les conditions difficiles, les parisiens n’oublient pas celle qui veille sur notre ville depuis XVI siècles.\\nNouvelle mission \"Defend Europe\" à venir. Bientôt de retour pour protéger nos frontières !\\nLa chaine Telegram de Génération Identitaire a maintenant plus de 7 000 abonnés !Partagez ce message pour nous aider à faire grandir notre audience.On compte sur vous.\\n🇫🇷 Risque terroriste et migratoire dans les Pyrénées : Génération Identitaire vient sécuriser la frontière !Le 5 janvier 2021, la préfecture de Haute-Garonne a décidé la fermeture temporaire du col du Portillon, à la frontière franco-espagnole, en raison d’une « menace terroriste qui demeure très élevée au plan national » et « des mouvements de migrants qui restent soutenus ».Le préfet Étienne Guyot a considéré qu’il était nécessaire d’interdire la circulation de tous véhicules et des piétons sur ce point de passage.Face à cette recrudescence de la menace islamiste et d’entrées massives de clandestins, Génération Identitaire se mobilise.Afin de protéger les Français, nos équipes « Defend Europe » sillonnent actuellement les zones d’infiltration possible près de l’Espagne.En cas d’intrusion, nous contacterons aussitôt les forces de police et de gendarmerie afin que les migrants clandestins soient interpellés et expulsés. La mission Pyrénées est lancée !Soutenez-nous ➡️\\n🇫🇷 Nos équipes « Defend Europe » se sont déployées sur l’ensemble de la zone frontalière avec l’Espagne. Certains points de passage ont été fermés par les autorités pour risque terroriste et d’intrusion massive de migrants. Nous sommes présents pour surveiller l’application de ces mesures et aider les forces de l’ordre à empêcher les clandestins d’entrer en France. En cas de violation de nos frontières, nous contacterons aussitôt les forces de l’ordre en vue de leur expulsion !Soutenez-nous ➡️\\n🇫🇷 Nos équipes « Defend Europe » ont protégé nos frontières toute la journée en Haute-Garonne. Merci à elles !Soutenez-nous ➡️\\n🇫🇷 Nos équipes « Defend Europe » de surveillance sont déjà sur le terrain pour continuer leur mission de renseignement. ➡️ Soutenez-nous ➡️\\n🇫🇷 Que vient faire Génération Identitaire dans les Pyrénées ? Jérémie vous explique tout dans cette vidéo. C’est le retour de nos missions « Defend Europe » !Soutenez-nous ➡️\\n🇫🇷 Puisque le Col du Portillon n\\'est pas sécurisé par les forces de l\\'ordre malgré les annonces de la préfecture, nous avons décidé de le bloquer nous-mêmes. Face au risque islamiste et migratoire, aucun clandestin ne doit pouvoir pénétrer sur le sol français !Soutenez-nous ➡️\\nRendez-vous aujourd\\'hui à 21h15 ➡️ Thaïs sera l\\'invitée de l\\'émission \"Balance Ton Post\" sur C8 pour un débat EXPLOSIF : \"Faut-il dissoudre Génération ldentitaire ?\".Tous à vos écrans ce soir !\\n🇫🇷 Thaïs vous raconte en exclusivité la mission « Defend Europe » dans les Pyrénées. Découvrez ce que nos équipes ont vu lorsqu’elles ont sillonné le terrain pour aider les forces de l’ordre à empêcher l’entrée de clandestins en France !Soutenez-nous ➡️\\nThais en direct sur C8, c\\'est maintenant !\\nGeoffroy Lejeune : “Ce que fait Génération identitaire est absolument génial. L’agit-prop consiste à alerter les médias, et ça marche ! Ce qu’ils font n’est absolument pas illégal !”\\nLes Français ont parlé !\\nBalance Ton Poste (C8) Sondage : “Faut-il obliger le gouvernement à dissoudre Génération Identitaire ?” Non à 68% avec 40.000 Votes (Vidéo)\\nKarim Zéribi, ex-eurodéputé EELV condamné pour détournement de fonds publics, estime que Generation Identitaire est “en totale contradiction avec les valeurs républicaines”\\nTous les récents sondages l\\'indiquent, la majorité des Français sont contre l\\' massive. En s\\'attaquant à , la présidente de la région , la mondaine Carole , s\\'attaque, une fois de plus, à la volonté populaire !\\nLa chaine Telegram de Génération Identitaire a maintenant plus de 8 000 abonnés. Plus de 1 000 nouveaux ici cette semaine 😁Partagez ce message pour nous aider à faire grandir notre audience.On compte sur vous !\\nThaïs D’Escufon, porte parole de GI, reçue sur C8. Pour Hanouna : “Si l’État ne ferme pas cette association, ça va prendre énormément d’ampleur”\\nVous êtes plus de 600 à nous avoir contacté depuis hier pour nous rejoindre, merci !Et toi, qu\\'attends-tu ?Si toi aussi, tu veux défendre ta civilisation et lutter contre l\\'invasion de ton pays, alors rejoins-nous maintenant 👇Contacte .\\nQuand la mairie de Rouen et l’association étudiante la Meltinerie organisent des soupes populaires pour aider exclusivement les migrants, les militants normands de Génération Solidaire récoltent des denrées alimentaires pour les étudiants précaires devant un supermarché de la banlieue rouennaise. Si toi aussi, tu veux défendre les nôtres avant les autres, rejoins-nous  !\\nLes militants de Génération Identitaire Paris étaient hier soir dans le quartier de Beaugrenelle pour demander «\\xa0justice pour Yuriy\\xa0», ce jeune Franco-ukrainien lynché par une bande de racailles qui est toujours entre la vie et la mort. Après Marin, Axelle ou Philippe, Yuriy est une nouvelle victime de cette hyper-violence imposée par les bandes de racailles. Ils ont leurs bandes, rejoins ton clan.',\n",
       " 'GI_dissolution': 'Darmanin est scandalisé... que de jeunes Français aient réclamé l\\'application de la loi ? L\\'entrée de migrants clandestins en France est illégale, nous n\\'avons fait que dénoncer le laxisme migratoire dont son gouvernement fait preuve !\\nDe nombreuses mosquées radicales signalées en France, mais pour  c\\'est  qu\\'il faut dissoudre ! Le sens des priorités dangereuses de ce gouvernement me choquera toujours...src : BFM TV\\nLa seule raison pour laquelle Darmanin veut dissoudre Génération Identitaire, c\\'est pour masquer ses échecs !\\nVous souhaitez nous aider ?Alors c\\'est le moment d\\'agir.Darmanin a annoncé vouloir dissoudre Génération Identitaire.Nous avons besoin de votre soutien MAINTENANT en diffusant MASSIVEMENT à tous vos contacts cette pétition et en la signant.Aidez-nous et agissez IMMÉDIATEMENT. SIGNEZ LA PÉTITION POUR SOUTENIR GÉNÉRATION IDENTITAIRE !\\nOuverture d’une enquête préliminaire contre Génération identitaire pour “provocation à la haine”. L’enquête est justifiée par “des propos tenus très clairement anti-immigration”, indique le procureur\\nNon, M. Le Ministre, Non, M. le Procureur, dénoncer l\\'immigration illégale, ce n\\'est pas \"de la provocation à la haine raciale\", c\\'est alerter les Français !Ce matin, Gérald Darmanin, ministre de l\\'Intérieur se déclarait \"scandalisé\" par notre action militante à la frontière pyrénéenne et annonçait étudier la possibilité de dissoudre Génération Identitaire. Cet après-midi, le temps de recevoir l\\'ordre de Paris, le procureur de la République de Saint Gaudens annonçait à l\\'AFP, une semaine après notre action, qu\\'il ouvrait une enquête préliminaire pour \"provocation publique à la haine raciale. Selon M. le Procureur, cette enquête serait justifiée par \"des propos tenus sur cette banderole très clairement anti-immigration et surtout la raison pour laquelle cette banderole a été déployée\".Que disait notre banderole ? \"Frontière fermée - Vous ne ferez pas de l\\'Europe votre foyer - On ne passe pas\". Où est la haine dans ce message politique d\\'hostilité à l\\'immigration illégale ? M. le Procureur fait-il du droit ou de la communication ?Reste le motif de notre action militante. Le procureur ne le détermine pas mais le cite comme faisant partie de son enquête. Mais depuis quand en démocratie un procureur ouvre une enquête pour savoir les raisons qui conduisent des militants politiques à agir pacifiquement ? Juridiquement, rien n\\'est sérieux dans cette attaque de l\\'Etat. Politiquement, en revanche, tout est malsain. Incapable de fermer les mosquées radicales, incapable de faire signer une charte républicaine de l’islam à de nombreuses associations musulmanes, incapable de fermer nos frontières, incapable d\\'imposer l\\'interdiction du voile, incapables de gérer la crise du COVID, Macron et son gouvernement se montrent une nouvelle fois incapables de protéger efficacement les Français. Soumis idéologiquement à la gauche sur la question de l\\'immigration, rien n\\'est sérieusement entrepris contre l\\'immigration illégale. Dans ces conditions, pour un pouvoir à bout de souffle, il ne reste que la course en avant, la judiciarisation des lanceurs d\\'alerte, la répression contre les patriotes, la persécution des militants identitaires.Soutenez Génération Identitaire en signant cette pétition MAINTENANT ⬇️\\nDécouvrez qui s\\'est opposé à notre dissolution dans les médias ou sur les réseaux sociaux... et ceux qui ne l\\'ont pas encore fait. Demandez leur de se positionner, c\\'est MAINTENANT que Génération Identitaire a besoin d\\'aide !Merci aux milliers de soutiens  depuis hier, continuez à diffuser PARTOUT notre pétition !\\nThaïs revient pour vous sur l\\'émission de Hanouna visionnée par plus de 800 000 téléspectateurs. Envie de connaître les dessous de ce débat ?Regardez maintenant sa vidéo !\\nCastaner évoque “le plaisir” que cela aurait été pour lui de dissoudre Génération identitaire. Il estime que les militants de GI “se protègent comme des lâches” derrière la loi française (MàJ)\\n⬆️ Retrouvez l’intégralité de mon passage de ce matin dans l’émission d’André Bercoff Non à la dissolution de Génération Identitaire !Le lien du replay YouTube 👉🏻\\nZemmour : “Si Darmanin dissout Génération identitaire, il devra assumer cette action tyrannique et anti-démocratique. Il faut qu’il le sache. En d’autres temps, ces jeunes-là auraient été vus comme des héros”\\n⚠️ Suspension de mon compte Instagram à plus de 15600 abonnés : la censure s’acharne !Il est devenu urgent de rassembler nos forces sur des réseaux sociaux tels que Telegram pour continuer d’avoir un impact, c’est pourquoi je remercie vous tous qui me suivez. Continuez de partager cette chaîne autour de vous et d’inciter vos proches à basculer sur Telegram !Voici le lien de mon nouveau compte Instagram ➡️\\n‼️ Rdv le samedi 6 février à Montpellier pour une journée de rencontre avec les militants de Génération Identitaire.Il est temps de rejoindre ton clan 👊Nombres de places limitées inscription en mp. Pour nous contacter ➡️  Pour nous suivre ➡️\\nGénération Identitaire a besoin de TOI.Notre mouvement peut être interdit dans les prochains jours.Nous devons faire une démonstration de force à laquelle tu peux participer.Alors signe cette pétition MAINTENANT.Ils sont 10 000 à l\\'avoir fait en 24 heures.Et toi, qu\\'attends-tu ?\\nAujourd’hui les jeunes identitaires toulousains ont assisté à un cercle de formation. 📚 Trois lectures militantes incontournables du mouvement leur ont été présentées.Action, formation cohésion : rejoins la jeunesse engagée ! 💥 contacte\\nCol du Portillon : A l’appel du PCF, du NPA, de EELV, de la CGT et de LREM, des militants pro-migrants manifestent contre Génération identitaire. “Les Pyrénées sont une frontière ouverte et accueillante”\\n🇫🇷 La mission « Pyrénées » des équipes de Defend Europe en Haute-Garonne est un succès ! Retour en images sur notre action pour protéger les frontières. Partagez la vidéo !Soutenez-nous ➡️\\nLettre ouverte à Gerald Darmanin 👇Monsieur le Ministre,le 26 janvier dernier, vous vous déclariez \"scandalisé\" par l\\'action menée par Génération Identitaire au col du Portillon dans les Pyrénées. Vous nous reprochiez de nous substituer aux forces de l\\'ordre dans leur travail de contrôle de la frontière.Une partie de l\\'opinion plaçait alors votre intervention dans un contexte électoraliste. Une autre y voyait un contre-feu à des embarras très personnels.Il apparaît aujourd\\'hui que les uns et les autres se trompaient. Votre émotion était d\\'ordre purement technique. En quelque sorte, un malentendu.En effet, l\\'actualité récente révèle que votre gouvernement considère parfaitement légal que de simples citoyens patrouillent pour prévenir des intrusions de clandestins. Mieux ! Il les en prie ! A Mayotte, le 20 janvier, la sous-préfète a sollicité des associations, en l’occurrence de plongée, afin que celles-ci organisent des patrouilles en mer en complément de celles de la force publique. Dans ce contexte, il apparaît donc possible pour une association française, et donc Génération Identitaire, de patrouiller aux frontières.Nous nous réservons le droit de nous mettre prochainement en relation avec les préfets des départements frontaliers connaissant une forte pression migratoire afin de mettre en place un partenariat sur le modèle mahorais.La République, une et indivisible, ne connaissant pas de nuance selon le tropique, nous ne doutons pas de recevoir une réponse positive.Dans cette attente, nous vous prions de croire, M. le Ministre, à nos sentiments identitaires les meilleurs.\\nGénération Identitaire Lyon dénonce l’offre d’abonnement gratuit de TCL aux clandestins Face à la recrudescence des violences commises par des migrants dans les transports en commun et à l’injustice financière que les Lyonnais subissent, Génération Identitaire se mobilise et dénonce ce scandale. Les identitaires affichent depuis ce matin des autocollants et distribuent des flyers dans les stations de bus, tramway et métro afin que les utilisateurs en soient informés.Lundi 23 novembre, les élus du SYTRAL ont annoncé la création d’un « abonnement solidaire gratuit » notamment pour les bénéficiaires du RSA, de l’allocation adulte handicapé ou de solidarité aux personnes âgées mais surtout pour les demandeurs d’asile ou de titre de séjour et leurs ayants-droit à partir de janvier 2021.Les Lyonnais sont pris à la gorge financièrement par les mesures sanitaires et tout ce que celles-ci impliquent. Avec cette décision, TCL et le SYTRAL obligent une nouvelle fois les Lyonnais à payer pour des individus qui n’ont rien à faire chez nous. Pendant que les utilisateurs payent un abonnement à 65 euros par mois, les clandestins s’offrent donc des trajets gratuits.Cette décision constitue par ailleurs une mise en danger. L’insécurité est toujours aussi importante sur les réseaux TCL. Le 12 janvier, Bouras, Tunisien de 18 ans connu des services de police, agressait et menaçait d’un couteau un policier en civil à la station Monplaisir-Lumière. Laisser des clandestins voyager gratuitement ne fait qu’augmenter le risque d’agression, de vol… vis-à-vis des utilisateurs.TCL Sytral utilise votre argent au profit des clandestins : Dites non à cette injustice !\\nCollage ce matin à Albi !➡️ Rejoins-nous, contacte maintenant\\n⚫🟡 Génération Solidaire  / Distribution de denrées alimentaires à Rouen ❕Cette semaine, nous avons distribué des vivres aux étudiants (sympathisants de notre mouvement) dans le besoin. ➡️ Si toi aussi, tu es étudiant et que tu peines à finir le mois ou que tu souhaites les aider en nous donnant des denrées alimentaires, tu peux nous contacter par mail 👉\\nEncensé par les médias pour avoir décroché la banderole de Génération Identitaire contre le racisme anti-blanc après notre action place de la République, \"Acrobate94\" est poursuivi ... pour viol sur sa compagne. Ils ont les « héros » qu’ils méritent  !\\n► Rapport Stora : fausse impartialité historique, vraie promotion de la haine de soi - Tribune de Clément Martin :\\nGénération Identitaire s\\'exporte ➡️ Collage d\\'affiches à Namur, la capitale de la région de Wallonie.Rejoins-nous, contacte .\\n📢 Génération Identitaire est également présent sur Snapchat !Rejoins-nous maintenant pour profiter d\\'un contenu exclusif diffusé nulle part ailleurs ⬇️\\n🔴 Grand succès pour la journée de rencontre organisée par Génération Identitaire Montpellier ce samedi ! Ce sont près d\\'une vingtaine de nouveaux militants qui sont venus nous découvrir et grossir les rangs de la fédération Montpellieraine. Et toi qu\\'attends-tu pour rejoindre les tiens 👊 ? Pour nous rejoindre ➡️ Pour nous suivre ➡️\\n🥊 Pour la 4eme fois en trois ans, des membres de l\\'Agogé se sont rendu à Kosovska Mitrovica au Kosovo afin de soutenir le club de MMA local.Nos boxeurs ont pu commencer le stage dès leur arrivée.Au programme, kick boxing, MMA et renforcement musculaire. Kosovo Je Srbija 🇫🇷🇷🇸\\n► Quelle vision identitaire à propos de la lutte contre le voile islamique ? - Tribune de Clément Martin :\\n📢 Cette semaine, les jeunes identitaires lyonnais poursuivent leur campagne de sensibilisation et d’alerte contre la gratuité des transports pour les clandestins à Lyon. Les Lyonnais sont forcés de payer pour des individus qui n’ont rien à faire chez nous et sont sous la menace d’agressions ou de vols toujours plus nombreux. Cette décision te révolte ? Rejoins nous, envoie un message à\\nCollage ce matin à Metz !➡️ Rejoins-nous, contacte maintenant\\nLe gouvernement lance la procédure de dissolution de Génération IdentitaireCe vendredi 12 février, 4 policiers ont officiellement notifié au président de Génération Identitaire l’intention du gouvernement d’engager la dissolution de notre association.Cette annonce scandaleuse ne repose sur aucun fait sérieux. Il nous est d’abord reproché de former une « milice privée ». Le ministre de l’Intérieur critique ainsi notre action « Defend Europe » dans les Alpes, alors même que nous avons été intégralement relaxés, et celle dans les Pyrénées qui n’a provoqué « aucun trouble à l’ordre public » selon le préfet de Région.Gérald Darmanin nous accuse également « d’inciter à la haine », concept flou qui ne vise qu’à criminaliser toute opposition à l’invasion migratoire et pour lequel nous n’avons jamais été condamnés.Nous allons bien entendu utiliser toutes les voies légales pour invalider cette décision inique qui bafoue nos libertés élémentaires.Vous pouvez compter sur nous. On ne lâchera rien et on se battra jusqu’au bout. Plus que jamais, nous avons besoin de vous.Aidez-nous en signant maintenant cette pétition et en la diffusant au maximum autour de vous !\\nNous soutenons Génération Identitaire ! Et vous ? Rendez-vous samedi prochain à Paris.\\n📢 Grande manifestation de soutien à Génération Identitaire samedi prochain.Il faut que nous soyons le plus nombreux possible. À travers nous c’est toute l’opposition à l’immigration qu’ils veulent interdire. Montrons-leur que nous ne nous laissons pas faire !➡️ Partagez AU MAXIMUM cette vidéo autour de vous, immédiatement.Ne les laissons pas nous faire taire.💥 Rejoignez-nous samedi prochain à Paris, de toute la France et d’Europe !\\nOpération anti-migrants dans les Pyrénées : l\\'”office spécial de lutte contre les crimes contre l’humanité, les génocides et les crimes de guerre” saisi pour enquêter sur Génération Identitaire\\n🟡 Je vous donne rendez-vous ce soir à 20h40 sur C8 dans l’émission  dans un débat capital pour Génération Identitaire alors que nous sommes à quelques jours de notre dissolution. Tous à vos écrans et soutenez-nous sur les réseaux sociaux !\\n📣 Thaïs, notre porte parole est en direct sur C8.On va voter !\\nRectifions les mensonges sur le plateau de TPMP : oui, Thais avait raison !\\nThaïs d’Escufon : “Votre islamophobie fantasmée a fait 0 morts en France. L’islamisme, depuis l’attentat de Charlie Hebdo, c’est 260 morts”\\nSondage  : “Comprenez-vous la future dissolution de Génération Identitaire ?” (Plus de 40.000 votes)\\n\"Il faut que Gerald Darmanin renonce à cette décision de dissolution de GI qui ne le mérite pas au nom de la liberté d’expression, de la défense de la patrie et de la France.\"Visionnez l\\'intégralité du passage sur Génération Identitaire dans Face à l\\'info hier avec Éric Zemmour !\\nDissolution de Génération identitaire : Thaïs d’Escufon face à Louis-Georges Tin (CRAN) : «\\xa0Si le droit était appliqué, nous gagnerions. Je pense que c’est une atteinte très grave à la liberté d’expression »\\nInfos et vidéos exclusives, actualités et propos sans concessions au politiquement correct vous attendent ici 👇👇➡️ Abonnez-vous MAINTENANT à la nouvelle chaîne Telegram de Thaïs Descufon et PARTAGEZ-la !\\nContre la dissolution\\xa0: venez soutenir Génération Identitaire ce samedi à ParisGénération Identitaire organise une grande manifestation ce samedi à Paris à 14h pour protester contre la procédure de dissolution engagée à son encontre par le ministre de l’Intérieur.📢 Venez dire que vous refusez que l’on criminalise le refus de l’invasion migratoire\\xa0!📢 Venez dire que vous refusez que l’on bâillonne des lanceurs d’alerte\\xa0!📢 Venez dire que notre civilisation et notre pays méritent qu’on les défende\\xa0!Cette très grave décision doit concerner tous ceux qui refusent de se soumettre à l’idéologie dominante. Ils sont les prochains sur la liste.Rejoignez-nous massivement ce samedi à 14h à Paris pour dire NON à Darmanin et au gouvernement !\\nFaut-il ou non dissoudre Génération ldentitaire ?VOTEZ !\\n📺 : «\\xa0Nous avons simplement voulu demander que le droit soit appliqué à l’égard des migrants clandestins qui franchissent illégalement nos frontières et qui sont pour le coup dans l’illégalité\\xa0»J’étais ce matin en duplex dans «\\xa0l’Heure des Pros\\xa0» sur CNEWS pour défendre Génération Identitaire.\\nNotre manifestation est autorisée par la préfecture. Elle aura lieu à Paris, Place Denfert-Rochereau à 14h ce samedi.Nous avons ABSOLUMENT besoin de votre SOUTIEN.Votre présence à cet événement est déterminante.Réservez dès maintenant votre samedi après-midi.Mobilisons-nous pour défendre la liberté d\\'expression des lanceurs d\\'alerte sur les dégâts liés à l\\'immigration massive !\\nTOUS À PARIS CE SAMEDI !\\nLes sondages se suivent et se ressemblent 💪Émission d\\'Hanouna, ici Le Point, à chaque fois la LIBERTÉ gagne !\\n⚠️ Découvrez la VÉRITÉ !Je vous dévoile en exclusivité des extraits de la lettre de dissolution ⤵️ Partagez cette vidéo autour de vous pour révéler cette attaque scandaleuse contre la liberté !\\nZemmour en rajoute une couche : oui, cette décision de dissoudre Génération Identitaire est scandaleuse !\\nI-Média n°336 – Génération Identitaire : dissolution et persécutionGérald Darmanin veut la dissolution de Génération Identitaire. Une décision totalitaire qui inquiète de nombreux observateurs. ➡\\nComment ne pas donner raison à François de Closets ? Excellente intervention sur LCI, les soutiens de Génération Identitaire se font de plus en plus nombreux.\\nVirginie Pradel, juriste : “Je regrette les attaques judiciaires à l’endroit de Génération Identitaire, qui est une association pacifiste. On bafoue vraiment les libertés publiques des Français”\\nManifestation en soutien à ceux dont il ne faut pas prononcer le nom😏.           Samedi à Paris, place Denfert-Rochereau, 14h. Nous y serons et voici pourquoi. Nous espérons vous y voir nombreux.\\n🔴 Vous souhaitez nous soutenir mais vous ne pouvez pas venir à notre manifestation samedi ?Signez la pétition contre la dissolution de Génération Identitaire et partagez-la autour de vous !Ce sont 30 secondes de votre temps qui nous aideront sûrement ⤵️\\n veut dissoudre Génération Identitaire pour faire plaisir à la gauche et à l\\'extrême gauche et peu importe ce que disent les juges !\\n⚠️ C\\'est aujourd\\'hui ! 📍RDV place Denfert Rochereau à Paris à 14h ! Génération Identitaire !\\nVous souhaitez soutenir Génération Identitaire ? Faites-nous un don ici 👇\\nVous avez été 3 000 à venir nous soutenir à Paris aujourd\\'hui. Du fond du cœur, merci !\\nBravo à tous ces jeunes qui ont sauvé l\\'honneur de la liberté d\\'expression et de la résistance démocratique !\\nMERCI À TOUS !\\nSuite à mon message de soutien à Génération Identitaire, Facebook a supprimé ma publication et bloqué ma page. Je ne peux donc plus publier quoique ce soit sur ma page pendant un certain temps. Les GAFAM sont dans une démarche de censure idéologique et politique en dehors de tout cadre légal ou judiciaire. Après ce qui s’est passé aux États-Unis, il est certain que ces plateformes vont limiter de plus en plus fortement en France la diffusion de certaines idées pour influencer les prochaines élections. Cherchons dès à présent des alternatives, partagez ma chaîne Telegram ➡️\\nÉcoutez Thaïs en direct sur Sud Radio maintenant 👇\\nFrançois-Xavier Bellamy (LR) prend position contre la dissolution de Génération Identitaire. Il dénonce également la censure par Facebook des publications de Jordan Bardella et Marion Maréchal qui nous avaient apporté leur soutien.\\n📢 Puissant discours d\\'Émilie Lacoume de Paris lors de la manifestation de soutien à Génération Identitaire ce samedi 👆\\nZemmour sur la censure des publications de Marion Maréchal et Jordan Bardella à propos de Génération Identitaire 👆\\nOn ne dissout pas une Génération !La manifestation de soutien à Génération Identitaire samedi 20 février 2021 a rassemblé plus de 3000 personnes à Paris. Les libertés d’expression et d\\'associations sont gravement menacées par Darmanin qui souhaite dissoudre notre organisation. Merci à tous ceux qui se sont mobilisés !\\n🔴 Vous souhaitez nous soutenir mais vous ne pouvez pas venir à notre manifestation samedi ?Signez la pétition contre la dissolution de Génération Identitaire et partagez-la autour de vous !Ce sont 30 secondes de votre temps qui nous aideront sûrement ⤵️\\nLa dissolution de Génération Identitaire n\\'a pas été prononcée aujourd\\'hui en Conseil des Ministres. Si le gouvernement maintient cette décision, elle prendra probablement effet mercredi prochain.D\\'ici là, continuez à signer cette pétition pour nous soutenir !\\nLes militants albigeois sont allés afficher leur message dans la rue ce matin. Avec un peu de courage en politique, on peut stopper l\\'immigration !\\n🔴Européen et fier ! Les militants de Génération Identitaire ont affiché leur message dans les rues de Montpellier ce week-end. Tu veux défendre ton peuple? C\\'est le moment de nous rejoindre ! 👊💪Pour nous contacter  ➡️ Pour nous suivre ➡️\\nCollage de Génération Identitaire à Aix-en-Provence ! Il est encore temps de nous contacter ->\\n📢 Aujourd\\'hui, les militants rouennais de Génération identitaire étaient dans la rue pour afficher leur message. Défends ton peuple, rejoins-nous ➡️\\nGénération Identitaire affichait ses couleurs aux abords des facultés de Nantes cet après-midi ! Si toi aussi tu souhaites militer à nos côtés, contacte',\n",
       " 'TE_pré-dissolution': 'Merci à vous tous qui me rejoignez sur Telegram. Le monopole des GAFA sur internet n’a que trop duré.Le mandat de Biden commence bien ! Lui qui se targue d’être un démocrate, sitôt élu, ce ne sont pas moins de 4 millions de comptes Twitter patriotes qui ont été suspendus. Le plus gros d’entre eux bien sûr : celui du 45e président des Etats-Unis qui représente à lui seul plus de 70 millions d’électeurs, celui qui est pourtant l’homme le plus admiré du monde en 2020.C’est un péché d’hybris de leur part, trop habitués qu’ils sont au monopole de la pensée et du discours. Une revanche prise après 4 ans à ronger leur frein.Non, dire que ce sont des entreprises privées n’est pas une excuse. À partir du moment où plus de la moitié de la planète les utilise, qu’elles ont écrasé toute concurrence et qu’elles ont acquis un pouvoir délirant, leur gestion est dangereuse et celle-ci devient d’intérêt public.Ils nous censurent nous, puis demain vous et quiconque dénoncera ou s’opposera à l’islamisme, à l’immigration et au progressisme. Comme si faire taire la réalité l’empêcherait d’exister. Nous devons développer une véritable résistance identitaire numérique, et s’ils nous bannissent, des réseaux parallèles. Ne vous inquiétez pas, la vérité fait toujours son chemin. Les journalistes sont déjà présents sur cette plateforme et si nous sommes assez nombreux, ils seront bien obligés de relayer nos messages. Et bien sûr nous avons avec nous le plus gros allié qui soit : le réel. Qu’importe leur idéologie individualiste et mortifère, les faits les rattraperont toujours.Ainsi, faites tourner le mot autour de vous, soyez des résistants, ils ne nous réduiront pas au silence.Sur internet mais aussi dans la rue, Génération Identitaire continuera de barrer la route à nos ennemis.\\nNormalement vous pourriez à présent commenter mes publications 😉✌🏻 merci à vous d’être là, continuez de faire tourner cette chaîne, c’est important de ne pas perdre contact. Il suffit d’un claquement de doigts pour qu’ils dissolvent nos communautés virtuelles, alors certes il reste la vraie vie, mais c’est tout de même vital de ne pas nous perdre de vue en ligne. Bienvenue !\\nVous êtes déjà plus de 1000 à suivre cette chaîne Telegram 🤩 Un grand merci à vous. Restons optimistes, nous avons un noyau dur réactif et engagé ! Ce sont les minorités actives qui font l’Histoire.Je posterai ma vidéo sur la censure demain, sur mon instagram et ici même. (Je suis interdite de publication pendant 7 jours sur facebook)Ne jamais baisser les bras 💪🏻\\nNe les laissons pas nous faire taire 💥➡️ Depuis 48h, les GAFAM ne cachent plus leur cible : les patriotes et identitaires présents sur internet. Plus de 4 millions de comptes ont été suspendus par la plateforme Twitter, comme celui de l’homme le plus puissant du monde : Donald Trump. ➡️Par là même, les GAFAM nient la légitimité des opinions de plus de 70 millions d’électeurs américains, ainsi que celle des millions d’autres êtres humains qui soutiennent son action.➡️Soyez en bien sûrs : cette censure ne va aller qu’en s’accentuant. Ils veulent nous éradiquer d’internet.➡️Le temps presse, partagez cette vidéo, et continuez à rejoindre Telegram.\\n📢 Je me trouve actuellement au col du Portillon aux côtés de mes camarades identitaires pour sécuriser nos frontières. 🔵 Depuis le 5 janvier, le préfet de Haute Garonne a demandé la fermeture temporaire de ce point de passage clef emprunté par les migrants clandestins à cause d’une forte menace terroriste. Si ce danger existe bel et bien au col, pourquoi laisser le reste des frontières ouvertes ? Nous nous sommes donc rendus à la frontière franco-espagnole pour surveiller tout passage éventuel de migrants et en alerter les autorités. Plus une seule goutte de sang Français ou Européen ne doit couler à cause du couteau d’un terroriste. 💥 Migrants go back to your homeland !\\n🔴 Nous sommes toujours dans les Pyrénées afin de surveiller qu’aucun migrant clandestin ne pénètre notre sol. L’immigration massive ne fait qu’augmenter et avec elle la menace terroriste. Le laxisme de notre gouvernement criminel a permis que des centaines de Français perdent la vie. Nous nous révoltons contre cette destruction de notre identité : c’est la survie de notre peuple qui est en jeu. 💥 Message aux envahisseurs qui tenteraient de passer la frontière : «\\xa0Go back to your homeland, you will not make Europe home\\xa0». Soutenez-nous ➡️\\nRendez-vous aujourd\\'hui à 21h15 ➡️ Thaïs sera l\\'invitée de l\\'émission \"Balance Ton Post\" sur C8 pour un débat EXPLOSIF : \"Faut-il dissoudre Génération ldentitaire ?\".Tous à vos écrans ce soir !\\nPour des raisons de sécurité, j’ai retiré temporairement les commentaires car de nombreuses personnes mal intentionnées s’y déchaînaient. Je les rouvrirai dans quelques temps, et je vous remercie encore pour votre soutien💥💪🏻\\nÇa ressemblait vraiment à ça ? 😂\\nMoi quand on me coupait la parole hier 😂\\nComme vous avez pu le constater, j’ai fait une petite pause des réseaux sociaux après mon passage dans Balance ton post jeudi soir.J’ai évidemment reçu beaucoup d’insultes et de menaces mais cela fait partie du jeu. En revanche si vous saviez l’avalanche de messages de soutien 😉 ! Sur ce plateau je pensais à chacun d’entre vous qui me souteniez derrière vos écrans, et je vous en remercie chaleureusement. Je suis fière d’avoir représenté nos idées dans une aussi grosse émission, qui a d’ailleurs battu son record d’audience de la saison.Je reviens en force demain avec une vidéo pour vous raconter tout sur les coulisses comme cela m’a été beaucoup demandé !Portez-vous bien, nous vaincrons. 💪🏻\\nCe qu’il se passe dans le monde M. Hanouna ? Des gamins blancs comme Yuriy qui se font tabasser gratuitement par des racailles en rentrant de l’école et qui finissent dans le comas. Pourquoi ? Pour le simple fait de leur couleur de peau. Alors, où est-elle la haine ?\\n⚠️ Jeudi soir ils osaient nier l’existence du racisme anti-blanc en plateau, 2 jours plus tard sortait la vidéo du lynchage du jeune Franco-Ukrainien Yuriy, tabassé par la racaille alors qu’il rentrait de l’école. À partager sans modération : nous réclamons justice pour les victimes du racisme anti-blanc ! 💥 Justice pour Yuriy !\\nBagarre à Bruxelles entre «\\xa0jeunes\\xa0» de quartier et migrants. Contrairement à ces racailles nous n’avons JAMAIS commis une seule attaque physique sur les migrants. En revanche ceux qui nous accusent de ces calomnies n’ont rien à faire des migrants attaqués par des racailles. D’ailleurs ils les incitent à risquer leur vie pour venir chez nous : ils se moquent bien de leur intégrité physique. De la pure hypocrisie.\\n🔴 Balance Ton Post : les coulisses, mes impressions... je vous dis tout !',\n",
       " 'TE_dissolution': \"Vous souhaitez nous aider ?Alors c'est le moment d'agir.Darmanin a annoncé vouloir dissoudre Génération Identitaire.Nous avons besoin de votre soutien MAINTENANT en diffusant MASSIVEMENT à tous vos contacts cette pétition et en la signant.Aidez-nous et agissez IMMÉDIATEMENT. Montrons leur que nous ne sommes pas seuls et que les Français sont derrière nous ! SIGNEZ LA PÉTITION POUR SOUTENIR GÉNÉRATION IDENTITAIRE !\\nLa politique de Darmanin en une image : joli sens des priorités.\\nEn moins de 24h : déjà plus de 6000 signatures en soutien à Génération Identitaire : Merci à vous ! Continuez de partager autour de vous, ce sont 30 secondes de votre temps qui feront peut-être la différence. Nous défendons les Français et notre pays : jamais nous ne devrions être dissous pour cela !Le lien de la pétition ⤵️\\n🔔 Je serai en direct sur sudradio aux alentours de 12h25 pour défendre Génération Identitaire face aux menaces de dissolution. À tout de suite !\\n🔴 Découvrez qui s'est opposé à notre dissolution dans les médias ou sur les réseaux sociaux... et ceux qui ne l'ont pas encore fait. Demandez leur de se positionner, c'est MAINTENANT que Génération Identitaire a besoin d'aide !Merci aux milliers de soutiens  depuis hier, continuez à diffuser PARTOUT notre pétition !\\n🎙Retrouvez l’intégralité de mon passage de ce matin dans l’émission d’André Bercoff.Non à la dissolution de Génération Identitaire !Le lien du replay YouTube ⬇️\\n⚠️ Suspension de mon compte Instagram à plus de 15600 abonnés : la censure s’acharne !Il est devenu urgent de rassembler nos forces sur des réseaux sociaux tels que Telegram pour continuer d’avoir un impact, c’est pourquoi je remercie vous tous qui me suivez. Continuez de partager cette chaîne autour de vous et d’inciter vos proches à basculer sur Telegram !Voici le lien de mon nouveau compte Instagram ➡️\\nGénération Identitaire a besoin de TOI.Notre mouvement peut être interdit dans les prochains jours.Nous devons faire une démonstration de force à laquelle tu peux participer.Alors signe cette pétition MAINTENANT.Ils sont 10 000 à l'avoir fait en 24 heures.Et toi, qu'attends-tu ?\\nMon nouveau compte Instagram s’est fait suspendre à son tour, après avoir récupéré 10 000 abonnés en à peine une journée. Voyons le bon côté des choses : sa courte existence m’a permis de ramener un peu plus de monde sur cette chaîne mais également de me rendre compte du réel soutien que j’avais. Merci mille fois pour cela.C’est loin d’être fini car je n’ai pas dit mon dernier mot.Je vous tiens au courant de la suite et continuez à rejoindre Telegram !\\n👋🏻 Vous êtes nombreux à m’avoir demandé comment vous pourriez nous soutenir.Il existe deux possibilités : - En adhérant à Génération Identitaire via ce lien ⤵️  - En diffusant dans votre ville les autocollants de notre mouvement qui sont disponibles gratuitement (frais de port compris !) sur notre site internet ici ⤵️ Agissez maintenant💥Si vous avez des questions n’hésitez pas à les poser à  !\\nAujourd’hui à Toulouse nous avons rencontré 7 nouveaux jeunes désireux de rejoindre Génération Identitaire. J’ai entre autres pu échanger avec Faustine, 18 ans, qui a hâte de participer à nos actions ! Bienvenue 😁\\n🎥 Suite du reportage de France 3 Occitanie sur le mouvement identitaire à Toulouse et sur mes motivations militantes. C’est toujours une fierté pour moi de représenter nos idées dans le débat public aux côtés de mes camarades toulousains. Restez connectés, je partagerai ici le replay lorsqu’il sortira ! 😁\\n Je viens d’apprendre que Jean-Luc Melenchon a imposé à Hanouna l'absence d'Éric Naulleau sur le plateau. Et puis j’ai vu ce meme 😂\\n⚠️ Plus que jamais, nous avons besoin de vous.Aidez-nous en signant maintenant cette pétition et en la diffusant au maximum autour de vous ! Dites NON à la dissolution de Génération Identitaire ⤵️\\n📢 Grande manifestation de soutien à Génération Identitaire samedi prochain.Il faut que nous soyons le plus nombreux possible. À travers nous c’est toute l’opposition à l’immigration qu’ils veulent interdire. Montrons-leur que nous ne nous laissons pas faire !➡️ Partagez AU MAXIMUM cette vidéo autour de vous, immédiatement.Ne les laissons pas nous faire taire.💥 Rejoignez-nous samedi prochain à Paris, de toute la France et d’Europe !\\n📽 Comme promis, je tourne actuellement une vidéo qui démonte point par point tous les motifs invoqués par Gérald Darmanin dans sa lettre dont je vous dévoilerai des extraits en exclusivité.\\n🟡 Je vous donne rendez-vous ce soir à 20h40 sur C8 dans l’émission  dans un débat capital pour Génération Identitaire alors que nous sommes à quelques jours de notre dissolution. Tous à vos écrans et soutenez-nous sur les réseaux sociaux !\\nQuand le réel vient te mettre une gifle 😂\\nAujourd’hui j’enchaîne avec un débat organisé par Sputnik France avec Louis-Georges Tin président d’honneur du C.R.A.N. Je vais continuer de défendre Génération Identitaire jusqu’au bout ! 💪🏻 Bientôt en ligne. 🎥\\nVous l’avez manqué ?Retrouvez ici le replay de mon passage hier soir dans l’émission de Cyril Hanouna  ⤵️\\n📺 Je serai en Duplex dans l’émission de Pascal Praud entre 9h45 et 10h15\\xa0sur CNEWS. À tout de suite !\\n💥 «\\xa0Votre islamophobie fantasmée a fait 0 morts en France. L'islamisme, depuis l'attentat de Charlie Hebdo, c'est plus de 260 morts.\\xa0» Je recadre les pleurnicheries de Yassine Bellatar sur le plateau de TPMP.\\n📺 : «\\xa0Nous avons simplement voulu demander que le droit soit appliqué à l’égard des migrants clandestins qui franchissent illégalement nos frontières et qui sont pour le coup dans l’illégalité\\xa0»J’étais ce matin en duplex dans «\\xa0l’Heure des Pros\\xa0» sur CNEWS pour défendre Génération Identitaire.\\n«\\xa0Ce n’est pas seulement notre mouvement qui est attaqué, ce sont aussi 63% des Français qui ont déclaré être inquiets de l’immigration massive. Que va donc faire Gérald Darmanin, dissoudre 63% des Français ?\\xa0» Retrouvez l’intégralité de mon débat face à Louis-Georges Tin ici ⤵️\\n📺  : «\\xa0Dissoudre Génération Identitaire, c’est une atteinte grave à la liberté d’expression, à la liberté d’association et juridiquement parlant vous n’avez pas les outils pour le faire. Votre motivation est politique et idéologique.\\xa0» Je dévoile les véritables raisons de notre dissolution !\\n🔴 Annonce de notre manifestation sur  : «\\xa0Nous comptons protester en organisant une grande manifestation samedi prochain à 14h place Denfert Rochereau à Paris pour que tous nos soutiens se mobilisent et montrent bien que nous ne nous laissons pas nous faire réduire au silence. Au delà de notre mouvement c’est toute l’opposition à l’immigration et l’islamisation qui est attaquée.\\xa0» Nous avons besoin de votre présence, tous à Paris samedi prochain !\\n🎥 Hier soir j’ai retrouvé une équipe de France TV pour défendre notre mouvement et nos idées face à la dissolution.L’entretien sera diffusé dans l’émission d’Éric Brunet ce matin entre 10h et 10h30 sur LCI.C’est une immense fierté pour moi de représenter Génération Identitaire en ces moments des plus critiques. Nous continuons de nous battre pour faire triompher la liberté d’expression !\\n⚠️ Découvrez la VÉRITÉ !Je vous dévoile en exclusivité des extraits de la lettre de dissolution ⤵️ Partagez cette vidéo autour de vous pour révéler cette attaque scandaleuse contre la liberté !\\n🔴 Vous souhaitez nous soutenir mais vous ne pouvez pas venir à notre manifestation samedi ?Signez la pétition contre la dissolution de Génération Identitaire et partagez-la autour de vous !Ce sont 30 secondes de votre temps qui nous aideront sûrement ⤵️\\nDéjà 10 000 abonnés, merci à tous ! Vous êtes la preuve qu’on peut contourner la censure et que rien n’arrête notre combat. Continuez de partagez cette chaîne autour de vous 💪🏻 Sur internet et dans la rue, mobilisons-nous pour faire triompher la liberté !\\n🎙Je serai invitée dans l’émission «\\xa0les incorrectibles\\xa0» d’Éric Morillot sur SudRadio aujourd’hui à 13h. Seront abordés différents thèmes, dont la dissolution de Génération Identitaire et l’assassinat à Pau.À tout à l’heure !\\n🔴 Retrouvez mon passage de dimanche dans l’émission «\\xa0Les incorrectibles\\xa0» sur SudRadio en intégralité ici ⤵️\\nOn ne dissout pas une Génération !La manifestation de soutien à Génération Identitaire samedi 20 février 2021 a rassemblé plus de 3000 personnes à Paris. Les libertés d’expression et d'association sont gravement menacées par Darmanin qui souhaite dissoudre notre organisation. Merci à tous ceux qui se sont mobilisés !Le lien YouTube de cette vidéo ⤵️\\nMerci à Valek qui dans sa dernière vidéo se prononce contre la dissolution de Génération Identitaire, dénonce la censure et déclare saluer notre détermination ! 💪🏻 Le lien de la vidéo en entier ⤵️\\nCe matin je répondais aux questions de Boulevard Voltaire sur mon engagement en tant que femme 👱🏻\\u200d♀️. La vidéo sortira le 8 mars !\",\n",
       " 'TE_post-dissolution': '🗣 Photos prises ce matin alors que les forces de l’ordre nous bloquaient l’accès au pont où nous souhaitions faire notre action pour contester notre dissolution actée ce matin en conseil des ministres. J’ai dénoncé auprès des journalistes présents sur place cette répression arbitraire.Plus de détails dans mon vocal et infos sur la suite des événements. 👆🏻\\nThread Twitter intéressant à lire pour comprendre toute la supercherie des motifs invoqués pour nous dissoudre !👇🏻\\n⬆️ Entretien intéressant dans \"Le Figaro\" où, pour une énième fois, il est démontré que la dissolution de Génération Identitaire ne repose sur aucun fondement juridique sérieux.\\nLa députée LREM Olga Givernet ridiculisée sur le plateau de LCI par Éric Brunet 😂\\nPascal Praud s’exprime à propos de Génération Identitaire sans crainte du politiquement correct dans son émission \"L\\'Heure des Pros\" sur Cnews 👏🏻\\nUn grand merci à Jean-Frédéric Poisson qui s’était rendu à notre manifestation et continue d’exprimer publiquement son soutien à Génération Identitaire 👇🏻\\nElisabeth Lévy assomme le politiquement correct au micro de SudRadio 🗣 :\\xa0« Beauvais, Reims, Poissy, Trappes, Marseille : où nos valeurs et nos lois sont-elles bafouées ? L’agresseur de Reims a été condamné 7 fois mais l’urgence pour le gouvernement c’est de mater des trublions propres sur eux qui sont régulièrement relaxés par la justice et qui n’attentent ni aux biens ni aux personnes.\\xa0»\\nEntretien avec le média NTD où nous revenons sur la dissolution, mais aussi sur notre attachement à la France enracinée et la question du catholicisme aujourd’hui contaminé par l’idéologie immigrationniste.À retrouver en intégralité ici ⤵️\\n► Vraies et fausses précarités étudiantes - Tribune de Clément Martin :\\nPour le 8 mars, j’ai répondu aux questions de Boulevard Voltaire sur ma vision des rapports hommes-femmes, mes modèles féminins et bien d’autres choses encore 👱🏻\\u200d♀️ Merci à eux !Le lien YouTube de cette vidéo ⤵️\\nMarion Maréchal s’exprime au micro de France Info sur la dissolution de Génération Identitaire et rétablit la vérité ! 💪🏻\\nJe vous invite à suivre le canal Telegram de l’Etudiant Libre, une autre vision de l’actualité par des jeunes engagés ⤵️\\nJ’ai reçu ce matin un exemplaire du magazine «\\xa0Rebel\\xa0», produit par la branche jeunesse du Vlaams Belang. Le numéro du mois était consacré à Génération Identitaire.Ce parti politique flamand de plus en plus populaire, menant le combat identitaire, avait exprimé son soutien contre la dissolution de Gi et un de leurs députés s’était rendu à notre manifestation.Malgré la dissolution : partout en Europe les peuples se révoltent contre l’immigration massive et nos idées gagnent du terrain. Et cela ils ne pourront jamais rien contre. Dankzij Vlaams Belang Jongeren !\\n► Ce que personne ne dit dans les débats sur le revenu universel - Tribune de Clément Martin :\\nCHARLOTTE D\\'ORNELLAS - INVITÉE DE LIVRE NOIR📅Dimanche 21 mars, 18h Cela faisait plus de deux ans que Charlotte d\\'Ornellas, journaliste chez Valeurs actuelles et CNEWS, ne s\\'était confiée aussi longuement lors d\\'un long entretien face caméra. Seule.La mémoire, et l’amour de la France en bandoulière, la foi au cœur, Charlotte d’Ornellas nous emmène sur le champ de la bataille culturelle. Conseils, souvenirs, techniques argumentaires, figures tutélaires, elle nous raconte son parcours avec beaucoup de modestie et de sincérité.👉🏼 Entretien exclusif de Charlotte d’Ornellas dans le nouveau média  .Un plaisir à écouter. ⤵️🔗\\nRavie d’avoir pu échanger avec Stéphane Ravier croisé par hasard hier soir : le sénateur qui n’a pas la langue dans sa poche en hémicycle ! 😉\\n► Droits humains vs droits des peuples - Tribune de Clément Martin :\\nCe que raconte Inès dans cette vidéo, c’est le quotidien de trop de femmes partout en Europe. Ce fut le mien au cours de ma vie étudiante : faire attention à la façon de s’habiller, éviter certaines rues.Le pire ? Cela devient un réflexe. Alors qu\\'il ne faut JAMAIS s\\'accoutumer.L’insécurité des transports en commun ne cesse de croître ⬇️Mais quand le SSMSI (service statistique ministérielle de la sécurité intérieure) révèle en 2019 que 63% des violences sexuelles qui y sont commises en IDF sont le fait d’étrangers, aucune mesure de bon sens n’est prise. Voilà la triste réalité. Tant que le lien entre immigration et insécurité sera nié, Inès aura beau dénoncer ce cauchemar qu’elle vit tous les jours, cela ne fera qu’empirer pour elle comme pour les autres.\\nJoyeuses Pâques à tous (mieux vaut tard que jamais) ! Cette fête profondément européenne et inscrite depuis des millénaires dans notre mémoire est l’occasion de nous rappeler de l’héritage que nous continuons de faire vivre à travers elle. 🐇🐣 Retrouvailles avec ma famille aujourd’hui, j’espère que vous avez aussi passé cette fête près de vos proches. Je pense particulièrement à tous les grands-parents qui n’ont pas pu être entourés à cause de cette hystérie gouvernementale qui tourne au ridicule... Restons positifs : j’ai eu la chance de retourner au Pays Basque pour le week-end, je vous partage donc une photo prise sur place. Je ne me lasse pas de la diversité des paysages de France, nous vivons vraiment dans le plus beau pays du monde ! 😍Santé les amis 🥂\\nJe suis en train de lire «\\xa0Le porc-émissaire\\xa0» d’Eugénie Bastié, je vous le recommande vivement. Je la trouve pertinente sur les rapports homme-femme dans notre société, question de plus en plus épineuse aujourd’hui, ainsi que sur le féminisme.Il y est magnifiquement expliqué que les néo-féministes constituent l\\'avant-garde des déconstructeurs. Elles sont les rejetons monstrueux des libertaires de 68 et en viennent à détruire la matrice idéologique dont elles sont issues. Nous avons donc ici une merveilleuse illustration de la maxime célèbre de Pierre Victurnien Vergniaud : «\\xa0La Révolution est comme Saturne, elle finit toujours par dévorer ses propres enfants.\\xa0»Quel est votre avis ?\\nEt vous, vous auriez mis quelle légende ? 😂\\nQuand tu marques contre ton propre camp :Allocations et absentéisme scolaire = arabes..? 🤔\\nJe viens de découvrir la une du prochain numéro de Valeurs actuelles, qui dévoile un entretien avec Philippe de Villiers. Un terme m’a tout de suite interpellée : celui de remigration.Vous l’ignorez peut-être, mais cette mesure politique (càd le retour au pays d’une majorité d’extra-européens présents en France et en Europe) a été initialement popularisée et mise au devant du débat public par les identitaires. Petit à petit, son utilisation s’est démocratisée, jusqu’à être employée par de grandes figures médiatiques, comme vous pouvez ici le constater.On a souvent tendance à relever ce qui ne va pas et ce qu’il faudrait améliorer dans notre camp, mais apprenons également à relever ce type de victoire politique considérable. Faisons preuve de patience, le combat s’effectue pas à pas.Pour ceux qui souhaiteraient davantage creuser ce concept, voici la table ronde sur ce thème que j\\'avais effectuée lors du Forum Polémia consacré à cette question ➡️\\nComme il m’est régulièrement demandé des conseils de lectures pour qui commence à s’intéresser aux questions politiques, voici pour commencer quelques recommandations de ma propre liste. Si cela vous plaît je vous en partagerai d’autres plus tard, celles-là davantage axées sur l’identité.- «\\xa0Le multi-culturalisme comme religion politique\\xa0» Matthieu Bock-Côté - «\\xa0Pourquoi nous combattons ?\\xa0» Guillaume Faye- «\\xa0Avant-Guerre\\xa0» Guillaume Faye - «\\xa0Les deux patries\\xa0» Jean de Viguerie- «\\xa0Le porc-émissaire\\xa0» Eugénie Bastié - «\\xa0Le choc des civilisations\\xa0» Samuel Huntington- «\\xa0l’Archipel français\\xa0» Jérôme FourquetJe dévorais les livres étant plus jeune, et j’étais tellement absorbée à leur lecture que j’en oubliais le monde autour. En grandissant c’est une habitude qui s’est malheureusement affaiblie, mais que j’essaye à nouveau de reprendre. Ça vous dit on s’y met ensemble ? Dites-moi votre lecture du moment ! \\U0001f978\\nÀ deux doigts d’inventer la Remigration\\nDonnez de la force à cette toute jeune chaîne YouTube tenue par deux Français qui souhaitent faire vivre notre Histoire sous forme de podcasts audio. Leur travail est bien documenté et fidèle à la réalité. Au programme : l’arrestation des templiers ou encore la prise du Kent par Surcouf, et d’autres épisodes sont à venir. C’est quand même mieux que de regarder Netflix non ? «\\xa0Projet Gallus\\xa0» ⤵️Ils ont aussi une chaîne Telegram :\\n⛔️ En octobre dernier, de jeunes militants identitaires ont mené une campagne d’informations à propos du maire anciennement fiché S Abdelaziz Hamida.➡️ Découvrez ce qui leur est arrivé pour avoir osé dénoncer cette vérité.💪🏻 Soutenez-les, partagez cette vidéo autour de vous !\\nIls dénoncent un ancien fiché S… et sont condamnés !Au mois d’octobre 2020, des jeunes identitaires étaient allés effectuer un collage d’autocollants à Goussainville. Dans cette ville, le maire Abdelaziz Hamida est accusé d\\'être un islamiste, anciennement fiché S. Ces militants avaient diffusé un message : « Aujourd’hui Hamida, demain le Califat », cherchant à alerter la population locale.Après cette action politique classique, la répression s’est abattue sur eux. Convocation au poste de police, volonté affichée de perquisition, garde à vue et procès pour incitation à la haine. Les 5 prévenus ont comparu devant le Tribunal ce 22 avril. Ils ont été condamnés à des amendes allant de 500 euros à 750 euros !L’association des Lanceurs d’Alertes (l’ASLA) apporte son soutien à ces jeunes militants. Leur condamnation est scandaleuse et doit inquiéter tous les défenseurs de la liberté d’expression. Informer les Français sur l’islamisme n’est pas un crime !\\n► Loi Falorni sur le suicide assisté : un enjeu identitaire - Tribune de Clément Martin :\\nUn grand merci à Jean-Yves le Gallou qui adresse son soutien aux jeunes identitaires condamnés pour avoir osé dire la vérité ⚠️Le lien de l’émission en entier sur TV Libertés ici ▶️\\nLes Identitaires face au Conseil d’État : éléments d’analyse sur cette institution immigrationnisteLe Conseil d’État, défenseur des libertés ou instrument de l’État profond\\xa0? Défenseur des Français ou des étrangers ? ➡\\nCe vendredi 30 avril, je serai présente à l\\'audience du Conseil d\\'État à Paris qui doit statuer sur le référé-suspension que nous avons déposé contre la dissolution de Génération Identitaire. Cette mesure scandaleuse interdit provisoirement toute activité politique de notre association. Nous demandons que l\\'interdiction soit levée jusqu\\'à ce que le Conseil d\\'Etat statue au fond. À demain ! 💪🏻\\nL’audience vient de se clôturer. Beaucoup de mauvaise foi, d’erreurs factuelles, d’inexactitudes de la part du Ministère de l’Interieur qui s’est réservé le droit de rajouter des éléments au dernier moment dans le décret... Le délibéré de ce référé suspension sera prononcé lundi. Nous verrons donc s’il reste encore un respect du droit dans la justice Française. D’ici là portez-vous bien, je vous remercie chaleureusement pour tous vos messages de soutien, et je vous communiquerai bien évidemment la décision du conseil d’Etat en temps voulu !\\nGénération identitaire conteste sa dissolution devant le Conseil d’État, la représentante du ministère de l’Intérieur leur reproche notamment le slogan “on les accueille, ils nous égorgent”Le groupuscule d’extrême droite Génération identitaire (GI) a contesté vendredi devant le Conseil d’État sa dissolution décrétée en mars par le gouvernement, en rejetant l’idée qu’il incite à la haine en liant systématiquement immigration et insécurité. Lors de l’audience en référé, l’avocat de GI Me Pierre Robillot a estimé que l’association ne faisait qu’« interpeller » sur des questions d’actualité, …\\nLa répression continue : Clément Martin a été mis en examen vendredi dernier par le juge d\\'instruction. La raison ? Il avait réclamé l\\'expulsion et qualifié d\\'islamiste... un imam algérien, recteur de la Grande mosquée de Lyon qui avait organisé en toute illégalité un appel à la prière en haut du minaret au mois de mars 2020. On croit rêver !\\nLe Conseil d\\'État a rejeté notre référé suspension. L\\'activisme de Génération Identitaire demeure donc interdit jusqu\\'à la décision au fond.Cette décision ne constitue pas réellement une surprise même si elle est scandaleuse. Notre action sur le toit de la CAF de Bobigny est même qualifiée de \"raciste\" alors que nous avions simplement réclamé la mise en place de la préférence nationale de manière pacifique.Mais nous pouvons garder espoir, ce n\\'est pas terminé car le Conseil d\\'Etat doit maintenant se prononcer sur le fond du dossier. Je vous tiendrai informés de la suite des événements.Merci à tous pour votre soutien !\\nDissolution de Génération Identitaire en référé : un scandale judiciaireLe Conseil d’État a validé la dissolution de Génération Identitaire. Pour l’avocat Pierre Gentillet, il s’agit d’un scandale. ➡\\nJ’ai signé une tribune dans L’incorrect en réponse à l’article diffamant apparu dans le magazine ELLE\\xa0: «\\xa0La haine au féminin, jeunes jolies et fachos\\xa0» qui me mentionnait ainsi que d’autres femmes de droite. Je vous invite à la lire, ça déboite ! ⤵️\\nLe Conseil d’État, une officine socialiste, liberticide et immigrationniste. Par Jean-Yves Le GallouJean-Yves Le Gallou revient sur le militantisme du Conseil d’État et sur la personnalité du président de sa section contentieux. ➡\\n👉🏻 Après des propos maladroits et instrumentalisés sur l\\'islam, Buisson clarifie sa position aujourd\\'hui sur Cnews. Je le rejoins d\\'ailleurs parfaitement sur ce point : l\\'assimilation est désormais impossible et la question prioritaire est bien entendu celle de l\\'immigration massive.En effet, la question de l\\'islamisation n\\'est qu\\'une conséquence de l\\'invasion migratoire et un symptôme de celle-ci. Parler de religion sans parler de démographie empêche de voir le problème en face et donc de le résoudre. La solution aux problèmes de la France, ce n\\'est pas d\\'exiger des demandes irréalistes envers les immigrés, c\\'est de redevenir maîtres chez nous. Cette solution, c\\'est la remigration.\\n«\\xa0Faut-il avoir honte de manger de la viande\\xa0» se questionne Europe 1... 😳Qui eut cru qu’on ait à se poser la question un jour ? 🤯Tout est devenu un prétexte pour se flageller.\\n🎥 Quelque chose se prépare... Vous avez une idée de ce que ça peut être ? (Non ce n’est pas un tuto cuisine 😂)J’ai hâte de vous montrer tout cela !'}"
      ]
     },
     "execution_count": 43,
     "metadata": {},
     "output_type": "execute_result"
    }
   ],
   "source": [
    "# On rassemble les textes dans un dictionnaire\n",
    "\n",
    "temp = ['posts_gi1','posts_gi2','posts_TE1', 'posts_TE2', 'posts_TE3']\n",
    "temp_full = ['GI_pré-dissolution','GI_dissolution','TE_pré-dissolution', 'TE_dissolution', 'TE_post-dissolution']\n",
    "data = {}\n",
    "for i, m in enumerate(temp):\n",
    "    with open ('corpus_temp/' + m + \".txt\", encoding=\"utf8\") as f:\n",
    "        data[temp_full[i]] =  f.read()\n",
    "data"
   ]
  },
  {
   "cell_type": "code",
   "execution_count": 44,
   "metadata": {
    "scrolled": true
   },
   "outputs": [
    {
     "data": {
      "text/html": [
       "<div>\n",
       "<style scoped>\n",
       "    .dataframe tbody tr th:only-of-type {\n",
       "        vertical-align: middle;\n",
       "    }\n",
       "\n",
       "    .dataframe tbody tr th {\n",
       "        vertical-align: top;\n",
       "    }\n",
       "\n",
       "    .dataframe thead th {\n",
       "        text-align: right;\n",
       "    }\n",
       "</style>\n",
       "<table border=\"1\" class=\"dataframe\">\n",
       "  <thead>\n",
       "    <tr style=\"text-align: right;\">\n",
       "      <th></th>\n",
       "      <th>messages</th>\n",
       "    </tr>\n",
       "  </thead>\n",
       "  <tbody>\n",
       "    <tr>\n",
       "      <th>GI_pré-dissolution</th>\n",
       "      <td>Bonne année à tous ! Que 2021 soit une excellente année pour tous les défenseurs de l'identité. A l'abordage !\\n📢 Le...</td>\n",
       "    </tr>\n",
       "    <tr>\n",
       "      <th>GI_dissolution</th>\n",
       "      <td>Darmanin est scandalisé... que de jeunes Français aient réclamé l'application de la loi ? L'entrée de migrants cland...</td>\n",
       "    </tr>\n",
       "    <tr>\n",
       "      <th>TE_pré-dissolution</th>\n",
       "      <td>Merci à vous tous qui me rejoignez sur Telegram. Le monopole des GAFA sur internet n’a que trop duré.Le mandat de Bi...</td>\n",
       "    </tr>\n",
       "    <tr>\n",
       "      <th>TE_dissolution</th>\n",
       "      <td>Vous souhaitez nous aider ?Alors c'est le moment d'agir.Darmanin a annoncé vouloir dissoudre Génération Identitaire....</td>\n",
       "    </tr>\n",
       "    <tr>\n",
       "      <th>TE_post-dissolution</th>\n",
       "      <td>🗣 Photos prises ce matin alors que les forces de l’ordre nous bloquaient l’accès au pont où nous souhaitions faire n...</td>\n",
       "    </tr>\n",
       "  </tbody>\n",
       "</table>\n",
       "</div>"
      ],
      "text/plain": [
       "                                                                                                                                    messages\n",
       "GI_pré-dissolution   Bonne année à tous ! Que 2021 soit une excellente année pour tous les défenseurs de l'identité. A l'abordage !\\n📢 Le...\n",
       "GI_dissolution       Darmanin est scandalisé... que de jeunes Français aient réclamé l'application de la loi ? L'entrée de migrants cland...\n",
       "TE_pré-dissolution   Merci à vous tous qui me rejoignez sur Telegram. Le monopole des GAFA sur internet n’a que trop duré.Le mandat de Bi...\n",
       "TE_dissolution       Vous souhaitez nous aider ?Alors c'est le moment d'agir.Darmanin a annoncé vouloir dissoudre Génération Identitaire....\n",
       "TE_post-dissolution  🗣 Photos prises ce matin alors que les forces de l’ordre nous bloquaient l’accès au pont où nous souhaitions faire n..."
      ]
     },
     "execution_count": 44,
     "metadata": {},
     "output_type": "execute_result"
    }
   ],
   "source": [
    "# On importe le résultat dans un dataframe\n",
    "\n",
    "import pandas as pd\n",
    "\n",
    "pd.set_option('max_colwidth',120)\n",
    "\n",
    "data_df = pd.DataFrame(data, index = [0]).transpose()\n",
    "data_df.columns = ['messages']\n",
    "data_df"
   ]
  },
  {
   "cell_type": "markdown",
   "metadata": {},
   "source": [
    "## Lemmatisation"
   ]
  },
  {
   "cell_type": "code",
   "execution_count": 45,
   "metadata": {},
   "outputs": [
    {
     "data": {
      "text/html": [
       "<div>\n",
       "<style scoped>\n",
       "    .dataframe tbody tr th:only-of-type {\n",
       "        vertical-align: middle;\n",
       "    }\n",
       "\n",
       "    .dataframe tbody tr th {\n",
       "        vertical-align: top;\n",
       "    }\n",
       "\n",
       "    .dataframe thead th {\n",
       "        text-align: right;\n",
       "    }\n",
       "</style>\n",
       "<table border=\"1\" class=\"dataframe\">\n",
       "  <thead>\n",
       "    <tr style=\"text-align: right;\">\n",
       "      <th></th>\n",
       "      <th>messages</th>\n",
       "    </tr>\n",
       "  </thead>\n",
       "  <tbody>\n",
       "    <tr>\n",
       "      <th>GI_pré-dissolution</th>\n",
       "      <td>bon année à tout ! que 2021 être un excellent année pour tout le défenseur de le identité . avoir le abordage ! \\n 📢...</td>\n",
       "    </tr>\n",
       "    <tr>\n",
       "      <th>GI_dissolution</th>\n",
       "      <td>Darmanin être scandaliser ... que de jeune français avoir réclamer le application de le loi ? le entrée de migrant c...</td>\n",
       "    </tr>\n",
       "    <tr>\n",
       "      <th>TE_pré-dissolution</th>\n",
       "      <td>merci à vous tout qui me rejoindre sur Telegram . le monopole de GAFA sur internet n’ avoir que trop durer . le mand...</td>\n",
       "    </tr>\n",
       "    <tr>\n",
       "      <th>TE_dissolution</th>\n",
       "      <td>vous souhaiter nous aider ? alors ce être le moment de agir . Darmanin avoir annoncer vouloir dissoudre génération I...</td>\n",
       "    </tr>\n",
       "    <tr>\n",
       "      <th>TE_post-dissolution</th>\n",
       "      <td>🗣 photo prendre ce matin alors que le force de l’ ordre nous bloquer l’ accès au pont où nous souhaiter faire notre ...</td>\n",
       "    </tr>\n",
       "  </tbody>\n",
       "</table>\n",
       "</div>"
      ],
      "text/plain": [
       "                                                                                                                                    messages\n",
       "GI_pré-dissolution   bon année à tout ! que 2021 être un excellent année pour tout le défenseur de le identité . avoir le abordage ! \\n 📢...\n",
       "GI_dissolution       Darmanin être scandaliser ... que de jeune français avoir réclamer le application de le loi ? le entrée de migrant c...\n",
       "TE_pré-dissolution   merci à vous tout qui me rejoindre sur Telegram . le monopole de GAFA sur internet n’ avoir que trop durer . le mand...\n",
       "TE_dissolution       vous souhaiter nous aider ? alors ce être le moment de agir . Darmanin avoir annoncer vouloir dissoudre génération I...\n",
       "TE_post-dissolution  🗣 photo prendre ce matin alors que le force de l’ ordre nous bloquer l’ accès au pont où nous souhaiter faire notre ..."
      ]
     },
     "execution_count": 45,
     "metadata": {},
     "output_type": "execute_result"
    }
   ],
   "source": [
    "import spacy\n",
    "nlp = spacy.load('fr_core_news_md')\n",
    "\n",
    "data_lem = data_df.copy(deep = True)\n",
    "data_lem['messages'] = data_df['messages'].apply(lambda x: \" \".join([y.lemma_ for y in nlp(x)]))\n",
    "data_lem"
   ]
  },
  {
   "cell_type": "markdown",
   "metadata": {},
   "source": [
    "## Supression du brouhaha"
   ]
  },
  {
   "cell_type": "code",
   "execution_count": 46,
   "metadata": {
    "scrolled": true
   },
   "outputs": [],
   "source": [
    "import re\n",
    "import string\n",
    "\n",
    "def clean_text(text):\n",
    "    text = text.lower()\n",
    "    text = re.sub('[?!/,()«»:;]', '', text)\n",
    "    text = re.sub('[/.\\'’\"]', ' ', text)\n",
    "    text = re.sub('\\n', ' ', text)\n",
    "    return text"
   ]
  },
  {
   "cell_type": "code",
   "execution_count": 47,
   "metadata": {
    "scrolled": true
   },
   "outputs": [
    {
     "data": {
      "text/html": [
       "<div>\n",
       "<style scoped>\n",
       "    .dataframe tbody tr th:only-of-type {\n",
       "        vertical-align: middle;\n",
       "    }\n",
       "\n",
       "    .dataframe tbody tr th {\n",
       "        vertical-align: top;\n",
       "    }\n",
       "\n",
       "    .dataframe thead th {\n",
       "        text-align: right;\n",
       "    }\n",
       "</style>\n",
       "<table border=\"1\" class=\"dataframe\">\n",
       "  <thead>\n",
       "    <tr style=\"text-align: right;\">\n",
       "      <th></th>\n",
       "      <th>messages</th>\n",
       "    </tr>\n",
       "  </thead>\n",
       "  <tbody>\n",
       "    <tr>\n",
       "      <th>GI_pré-dissolution</th>\n",
       "      <td>bon année à tout  que 2021 être un excellent année pour tout le défenseur de le identité   avoir le abordage    📢 le...</td>\n",
       "    </tr>\n",
       "    <tr>\n",
       "      <th>GI_dissolution</th>\n",
       "      <td>darmanin être scandaliser     que de jeune français avoir réclamer le application de le loi  le entrée de migrant cl...</td>\n",
       "    </tr>\n",
       "    <tr>\n",
       "      <th>TE_pré-dissolution</th>\n",
       "      <td>merci à vous tout qui me rejoindre sur telegram   le monopole de gafa sur internet n  avoir que trop durer   le mand...</td>\n",
       "    </tr>\n",
       "    <tr>\n",
       "      <th>TE_dissolution</th>\n",
       "      <td>vous souhaiter nous aider  alors ce être le moment de agir   darmanin avoir annoncer vouloir dissoudre génération id...</td>\n",
       "    </tr>\n",
       "    <tr>\n",
       "      <th>TE_post-dissolution</th>\n",
       "      <td>🗣 photo prendre ce matin alors que le force de l  ordre nous bloquer l  accès au pont où nous souhaiter faire notre ...</td>\n",
       "    </tr>\n",
       "  </tbody>\n",
       "</table>\n",
       "</div>"
      ],
      "text/plain": [
       "                                                                                                                                    messages\n",
       "GI_pré-dissolution   bon année à tout  que 2021 être un excellent année pour tout le défenseur de le identité   avoir le abordage    📢 le...\n",
       "GI_dissolution       darmanin être scandaliser     que de jeune français avoir réclamer le application de le loi  le entrée de migrant cl...\n",
       "TE_pré-dissolution   merci à vous tout qui me rejoindre sur telegram   le monopole de gafa sur internet n  avoir que trop durer   le mand...\n",
       "TE_dissolution       vous souhaiter nous aider  alors ce être le moment de agir   darmanin avoir annoncer vouloir dissoudre génération id...\n",
       "TE_post-dissolution  🗣 photo prendre ce matin alors que le force de l  ordre nous bloquer l  accès au pont où nous souhaiter faire notre ..."
      ]
     },
     "execution_count": 47,
     "metadata": {},
     "output_type": "execute_result"
    }
   ],
   "source": [
    "data_clean = data_lem.copy(deep = True)\n",
    "data_clean = pd.DataFrame(data_lem.messages.apply(lambda x: clean_text(x)))\n",
    "data_clean"
   ]
  },
  {
   "cell_type": "markdown",
   "metadata": {},
   "source": [
    "## Stopwords"
   ]
  },
  {
   "cell_type": "code",
   "execution_count": 48,
   "metadata": {},
   "outputs": [
    {
     "data": {
      "text/html": [
       "<div>\n",
       "<style scoped>\n",
       "    .dataframe tbody tr th:only-of-type {\n",
       "        vertical-align: middle;\n",
       "    }\n",
       "\n",
       "    .dataframe tbody tr th {\n",
       "        vertical-align: top;\n",
       "    }\n",
       "\n",
       "    .dataframe thead th {\n",
       "        text-align: right;\n",
       "    }\n",
       "</style>\n",
       "<table border=\"1\" class=\"dataframe\">\n",
       "  <thead>\n",
       "    <tr style=\"text-align: right;\">\n",
       "      <th></th>\n",
       "      <th>messages</th>\n",
       "    </tr>\n",
       "  </thead>\n",
       "  <tbody>\n",
       "    <tr>\n",
       "      <th>GI_pré-dissolution</th>\n",
       "      <td>bon année tout 2021 être excellent année tout défenseur identité avoir abordage 📢 vrai visage celui demander dissolu...</td>\n",
       "    </tr>\n",
       "    <tr>\n",
       "      <th>GI_dissolution</th>\n",
       "      <td>darmanin être scandaliser jeune français avoir réclamer application loi entrée migrant clandestin france être illéga...</td>\n",
       "    </tr>\n",
       "    <tr>\n",
       "      <th>TE_pré-dissolution</th>\n",
       "      <td>merci tout rejoindre telegram monopole gafa internet avoir trop durer mandat biden commencer bien targue être démocr...</td>\n",
       "    </tr>\n",
       "    <tr>\n",
       "      <th>TE_dissolution</th>\n",
       "      <td>souhaiter aider alors être moment agir darmanin avoir annoncer vouloir dissoudre génération identitaire avoir besoin...</td>\n",
       "    </tr>\n",
       "    <tr>\n",
       "      <th>TE_post-dissolution</th>\n",
       "      <td>🗣 photo prendre matin alors force ordre bloquer accès pont où souhaiter faire action contester dissolution acter mat...</td>\n",
       "    </tr>\n",
       "  </tbody>\n",
       "</table>\n",
       "</div>"
      ],
      "text/plain": [
       "                                                                                                                                    messages\n",
       "GI_pré-dissolution   bon année tout 2021 être excellent année tout défenseur identité avoir abordage 📢 vrai visage celui demander dissolu...\n",
       "GI_dissolution       darmanin être scandaliser jeune français avoir réclamer application loi entrée migrant clandestin france être illéga...\n",
       "TE_pré-dissolution   merci tout rejoindre telegram monopole gafa internet avoir trop durer mandat biden commencer bien targue être démocr...\n",
       "TE_dissolution       souhaiter aider alors être moment agir darmanin avoir annoncer vouloir dissoudre génération identitaire avoir besoin...\n",
       "TE_post-dissolution  🗣 photo prendre matin alors force ordre bloquer accès pont où souhaiter faire action contester dissolution acter mat..."
      ]
     },
     "execution_count": 48,
     "metadata": {},
     "output_type": "execute_result"
    }
   ],
   "source": [
    "from nltk.corpus import stopwords \n",
    "\n",
    "stop_words = set(stopwords.words('french')) \n",
    "\n",
    "data_clean2 = data_clean.copy(deep = True)\n",
    "data_clean2['messages'] = data_clean['messages'].str.split()\n",
    "data_clean2['messages'] = (data_clean2['messages'].apply(lambda x: [w for w in x if w not in stop_words]))\n",
    "data_clean2['messages'] = [' '.join(map(str, l)) for l in data_clean2['messages']]\n",
    "data_clean2"
   ]
  },
  {
   "cell_type": "code",
   "execution_count": 49,
   "metadata": {},
   "outputs": [],
   "source": [
    "import pickle\n",
    "\n",
    "data_clean2.to_pickle('corpus.pkl')"
   ]
  },
  {
   "cell_type": "markdown",
   "metadata": {},
   "source": [
    "## CountVectorizer"
   ]
  },
  {
   "cell_type": "code",
   "execution_count": 50,
   "metadata": {},
   "outputs": [
    {
     "data": {
      "text/html": [
       "<div>\n",
       "<style scoped>\n",
       "    .dataframe tbody tr th:only-of-type {\n",
       "        vertical-align: middle;\n",
       "    }\n",
       "\n",
       "    .dataframe tbody tr th {\n",
       "        vertical-align: top;\n",
       "    }\n",
       "\n",
       "    .dataframe thead th {\n",
       "        text-align: right;\n",
       "    }\n",
       "</style>\n",
       "<table border=\"1\" class=\"dataframe\">\n",
       "  <thead>\n",
       "    <tr style=\"text-align: right;\">\n",
       "      <th></th>\n",
       "      <th>000</th>\n",
       "      <th>10</th>\n",
       "      <th>100</th>\n",
       "      <th>1000</th>\n",
       "      <th>1007</th>\n",
       "      <th>10h</th>\n",
       "      <th>10h15</th>\n",
       "      <th>10h30</th>\n",
       "      <th>12</th>\n",
       "      <th>12h25</th>\n",
       "      <th>...</th>\n",
       "      <th>étienne</th>\n",
       "      <th>étranger</th>\n",
       "      <th>étudiant</th>\n",
       "      <th>étudier</th>\n",
       "      <th>éventuel</th>\n",
       "      <th>évidemment</th>\n",
       "      <th>éviter</th>\n",
       "      <th>évoque</th>\n",
       "      <th>événement</th>\n",
       "      <th>être</th>\n",
       "    </tr>\n",
       "  </thead>\n",
       "  <tbody>\n",
       "    <tr>\n",
       "      <th>GI_pré-dissolution</th>\n",
       "      <td>4</td>\n",
       "      <td>0</td>\n",
       "      <td>1</td>\n",
       "      <td>0</td>\n",
       "      <td>1</td>\n",
       "      <td>0</td>\n",
       "      <td>0</td>\n",
       "      <td>0</td>\n",
       "      <td>0</td>\n",
       "      <td>0</td>\n",
       "      <td>...</td>\n",
       "      <td>1</td>\n",
       "      <td>0</td>\n",
       "      <td>2</td>\n",
       "      <td>0</td>\n",
       "      <td>0</td>\n",
       "      <td>0</td>\n",
       "      <td>0</td>\n",
       "      <td>0</td>\n",
       "      <td>0</td>\n",
       "      <td>37</td>\n",
       "    </tr>\n",
       "    <tr>\n",
       "      <th>GI_dissolution</th>\n",
       "      <td>4</td>\n",
       "      <td>1</td>\n",
       "      <td>0</td>\n",
       "      <td>0</td>\n",
       "      <td>0</td>\n",
       "      <td>0</td>\n",
       "      <td>0</td>\n",
       "      <td>0</td>\n",
       "      <td>2</td>\n",
       "      <td>0</td>\n",
       "      <td>...</td>\n",
       "      <td>0</td>\n",
       "      <td>0</td>\n",
       "      <td>2</td>\n",
       "      <td>1</td>\n",
       "      <td>0</td>\n",
       "      <td>0</td>\n",
       "      <td>0</td>\n",
       "      <td>1</td>\n",
       "      <td>1</td>\n",
       "      <td>72</td>\n",
       "    </tr>\n",
       "    <tr>\n",
       "      <th>TE_pré-dissolution</th>\n",
       "      <td>0</td>\n",
       "      <td>0</td>\n",
       "      <td>0</td>\n",
       "      <td>1</td>\n",
       "      <td>0</td>\n",
       "      <td>0</td>\n",
       "      <td>0</td>\n",
       "      <td>0</td>\n",
       "      <td>0</td>\n",
       "      <td>0</td>\n",
       "      <td>...</td>\n",
       "      <td>0</td>\n",
       "      <td>0</td>\n",
       "      <td>0</td>\n",
       "      <td>0</td>\n",
       "      <td>1</td>\n",
       "      <td>1</td>\n",
       "      <td>0</td>\n",
       "      <td>0</td>\n",
       "      <td>0</td>\n",
       "      <td>27</td>\n",
       "    </tr>\n",
       "    <tr>\n",
       "      <th>TE_dissolution</th>\n",
       "      <td>3</td>\n",
       "      <td>3</td>\n",
       "      <td>0</td>\n",
       "      <td>0</td>\n",
       "      <td>0</td>\n",
       "      <td>1</td>\n",
       "      <td>1</td>\n",
       "      <td>1</td>\n",
       "      <td>0</td>\n",
       "      <td>1</td>\n",
       "      <td>...</td>\n",
       "      <td>0</td>\n",
       "      <td>0</td>\n",
       "      <td>0</td>\n",
       "      <td>0</td>\n",
       "      <td>0</td>\n",
       "      <td>0</td>\n",
       "      <td>0</td>\n",
       "      <td>0</td>\n",
       "      <td>0</td>\n",
       "      <td>43</td>\n",
       "    </tr>\n",
       "    <tr>\n",
       "      <th>TE_post-dissolution</th>\n",
       "      <td>0</td>\n",
       "      <td>0</td>\n",
       "      <td>0</td>\n",
       "      <td>0</td>\n",
       "      <td>0</td>\n",
       "      <td>0</td>\n",
       "      <td>0</td>\n",
       "      <td>0</td>\n",
       "      <td>0</td>\n",
       "      <td>0</td>\n",
       "      <td>...</td>\n",
       "      <td>0</td>\n",
       "      <td>2</td>\n",
       "      <td>2</td>\n",
       "      <td>0</td>\n",
       "      <td>0</td>\n",
       "      <td>1</td>\n",
       "      <td>1</td>\n",
       "      <td>0</td>\n",
       "      <td>2</td>\n",
       "      <td>61</td>\n",
       "    </tr>\n",
       "  </tbody>\n",
       "</table>\n",
       "<p>5 rows × 1863 columns</p>\n",
       "</div>"
      ],
      "text/plain": [
       "                     000  10  100  1000  1007  10h  10h15  10h30  12  12h25  \\\n",
       "GI_pré-dissolution     4   0    1     0     1    0      0      0   0      0   \n",
       "GI_dissolution         4   1    0     0     0    0      0      0   2      0   \n",
       "TE_pré-dissolution     0   0    0     1     0    0      0      0   0      0   \n",
       "TE_dissolution         3   3    0     0     0    1      1      1   0      1   \n",
       "TE_post-dissolution    0   0    0     0     0    0      0      0   0      0   \n",
       "\n",
       "                     ...  étienne  étranger  étudiant  étudier  éventuel  \\\n",
       "GI_pré-dissolution   ...        1         0         2        0         0   \n",
       "GI_dissolution       ...        0         0         2        1         0   \n",
       "TE_pré-dissolution   ...        0         0         0        0         1   \n",
       "TE_dissolution       ...        0         0         0        0         0   \n",
       "TE_post-dissolution  ...        0         2         2        0         0   \n",
       "\n",
       "                     évidemment  éviter  évoque  événement  être  \n",
       "GI_pré-dissolution            0       0       0          0    37  \n",
       "GI_dissolution                0       0       1          1    72  \n",
       "TE_pré-dissolution            1       0       0          0    27  \n",
       "TE_dissolution                0       0       0          0    43  \n",
       "TE_post-dissolution           1       1       0          2    61  \n",
       "\n",
       "[5 rows x 1863 columns]"
      ]
     },
     "execution_count": 50,
     "metadata": {},
     "output_type": "execute_result"
    }
   ],
   "source": [
    "from sklearn.feature_extraction.text import CountVectorizer\n",
    "\n",
    "cv = CountVectorizer()\n",
    "data_cv = cv.fit_transform(data_clean2.messages)\n",
    "data_dtm = pd.DataFrame(data_cv.toarray(), columns=cv.get_feature_names())\n",
    "data_dtm.index = data_clean2.index\n",
    "data_dtm"
   ]
  },
  {
   "cell_type": "code",
   "execution_count": 51,
   "metadata": {},
   "outputs": [],
   "source": [
    "data_dtm.to_pickle(\"dtm.pkl\")"
   ]
  },
  {
   "cell_type": "markdown",
   "metadata": {},
   "source": [
    "## Pour les Word Embeddings\n",
    "- On effectue les mêmes modifications, mais en gardant l'indicateur de saut de ligne pour pouvoir ensuite bien séparer les différents messages"
   ]
  },
  {
   "cell_type": "code",
   "execution_count": 52,
   "metadata": {},
   "outputs": [],
   "source": [
    "def clean_text_WE(text):\n",
    "    text = text.lower()\n",
    "    text = re.sub('[?!/,()«»:;“”]', '', text)\n",
    "    text = re.sub('[/.\\'’\"]', ' ', text)\n",
    "    return text"
   ]
  },
  {
   "cell_type": "code",
   "execution_count": 55,
   "metadata": {},
   "outputs": [
    {
     "data": {
      "text/html": [
       "<div>\n",
       "<style scoped>\n",
       "    .dataframe tbody tr th:only-of-type {\n",
       "        vertical-align: middle;\n",
       "    }\n",
       "\n",
       "    .dataframe tbody tr th {\n",
       "        vertical-align: top;\n",
       "    }\n",
       "\n",
       "    .dataframe thead th {\n",
       "        text-align: right;\n",
       "    }\n",
       "</style>\n",
       "<table border=\"1\" class=\"dataframe\">\n",
       "  <thead>\n",
       "    <tr style=\"text-align: right;\">\n",
       "      <th></th>\n",
       "      <th>messages</th>\n",
       "    </tr>\n",
       "  </thead>\n",
       "  <tbody>\n",
       "    <tr>\n",
       "      <th>GI_pré-dissolution</th>\n",
       "      <td>bon année à tout  que 2021 être un excellent année pour tout le défenseur de le identité   avoir le abordage  \\n 📢 l...</td>\n",
       "    </tr>\n",
       "    <tr>\n",
       "      <th>GI_dissolution</th>\n",
       "      <td>darmanin être scandaliser     que de jeune français avoir réclamer le application de le loi  le entrée de migrant cl...</td>\n",
       "    </tr>\n",
       "    <tr>\n",
       "      <th>TE_pré-dissolution</th>\n",
       "      <td>merci à vous tout qui me rejoindre sur telegram   le monopole de gafa sur internet n  avoir que trop durer   le mand...</td>\n",
       "    </tr>\n",
       "    <tr>\n",
       "      <th>TE_dissolution</th>\n",
       "      <td>vous souhaiter nous aider  alors ce être le moment de agir   darmanin avoir annoncer vouloir dissoudre génération id...</td>\n",
       "    </tr>\n",
       "    <tr>\n",
       "      <th>TE_post-dissolution</th>\n",
       "      <td>🗣 photo prendre ce matin alors que le force de l  ordre nous bloquer l  accès au pont où nous souhaiter faire notre ...</td>\n",
       "    </tr>\n",
       "  </tbody>\n",
       "</table>\n",
       "</div>"
      ],
      "text/plain": [
       "                                                                                                                                    messages\n",
       "GI_pré-dissolution   bon année à tout  que 2021 être un excellent année pour tout le défenseur de le identité   avoir le abordage  \\n 📢 l...\n",
       "GI_dissolution       darmanin être scandaliser     que de jeune français avoir réclamer le application de le loi  le entrée de migrant cl...\n",
       "TE_pré-dissolution   merci à vous tout qui me rejoindre sur telegram   le monopole de gafa sur internet n  avoir que trop durer   le mand...\n",
       "TE_dissolution       vous souhaiter nous aider  alors ce être le moment de agir   darmanin avoir annoncer vouloir dissoudre génération id...\n",
       "TE_post-dissolution  🗣 photo prendre ce matin alors que le force de l  ordre nous bloquer l  accès au pont où nous souhaiter faire notre ..."
      ]
     },
     "execution_count": 55,
     "metadata": {},
     "output_type": "execute_result"
    }
   ],
   "source": [
    "data_clean_WE = pd.DataFrame(data_lem.messages.apply(lambda x: clean_text_WE(x)))\n",
    "data_clean_WE"
   ]
  },
  {
   "cell_type": "code",
   "execution_count": 56,
   "metadata": {},
   "outputs": [],
   "source": [
    "data_clean_WE.to_pickle('corpus_WE.pkl')"
   ]
  }
 ],
 "metadata": {
  "kernelspec": {
   "display_name": "Python 3",
   "language": "python",
   "name": "python3"
  },
  "language_info": {
   "codemirror_mode": {
    "name": "ipython",
    "version": 3
   },
   "file_extension": ".py",
   "mimetype": "text/x-python",
   "name": "python",
   "nbconvert_exporter": "python",
   "pygments_lexer": "ipython3",
   "version": "3.8.5"
  }
 },
 "nbformat": 4,
 "nbformat_minor": 4
}
