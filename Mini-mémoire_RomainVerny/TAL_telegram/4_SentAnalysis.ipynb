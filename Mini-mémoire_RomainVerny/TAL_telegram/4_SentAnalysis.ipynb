{
 "cells": [
  {
   "cell_type": "markdown",
   "metadata": {},
   "source": [
    "## Objectifs du notebook\n",
    "- Visualiser l'évolution du ton sur les fils Telegram de GI et TE au fur et à mesure de la dissolution"
   ]
  },
  {
   "cell_type": "markdown",
   "metadata": {},
   "source": [
    "## Analyse avec TextBlob"
   ]
  },
  {
   "cell_type": "code",
   "execution_count": 5,
   "metadata": {},
   "outputs": [
    {
     "data": {
      "text/html": [
       "<div>\n",
       "<style scoped>\n",
       "    .dataframe tbody tr th:only-of-type {\n",
       "        vertical-align: middle;\n",
       "    }\n",
       "\n",
       "    .dataframe tbody tr th {\n",
       "        vertical-align: top;\n",
       "    }\n",
       "\n",
       "    .dataframe thead th {\n",
       "        text-align: right;\n",
       "    }\n",
       "</style>\n",
       "<table border=\"1\" class=\"dataframe\">\n",
       "  <thead>\n",
       "    <tr style=\"text-align: right;\">\n",
       "      <th></th>\n",
       "      <th>messages</th>\n",
       "    </tr>\n",
       "  </thead>\n",
       "  <tbody>\n",
       "    <tr>\n",
       "      <th>GI_pré-dissolution</th>\n",
       "      <td>bon année tout 2021 être excellent année tout ...</td>\n",
       "    </tr>\n",
       "    <tr>\n",
       "      <th>GI_dissolution</th>\n",
       "      <td>darmanin être scandaliser jeune français avoir...</td>\n",
       "    </tr>\n",
       "    <tr>\n",
       "      <th>TE_pré-dissolution</th>\n",
       "      <td>merci tout rejoindre telegram monopole gafa in...</td>\n",
       "    </tr>\n",
       "    <tr>\n",
       "      <th>TE_dissolution</th>\n",
       "      <td>souhaiter aider alors être moment agir darmani...</td>\n",
       "    </tr>\n",
       "    <tr>\n",
       "      <th>TE_post-dissolution</th>\n",
       "      <td>🗣 photo prendre matin alors force ordre bloque...</td>\n",
       "    </tr>\n",
       "  </tbody>\n",
       "</table>\n",
       "</div>"
      ],
      "text/plain": [
       "                                                              messages\n",
       "GI_pré-dissolution   bon année tout 2021 être excellent année tout ...\n",
       "GI_dissolution       darmanin être scandaliser jeune français avoir...\n",
       "TE_pré-dissolution   merci tout rejoindre telegram monopole gafa in...\n",
       "TE_dissolution       souhaiter aider alors être moment agir darmani...\n",
       "TE_post-dissolution  🗣 photo prendre matin alors force ordre bloque..."
      ]
     },
     "execution_count": 5,
     "metadata": {},
     "output_type": "execute_result"
    }
   ],
   "source": [
    "# On charge les données du corpus\n",
    "\n",
    "import pandas as pd\n",
    "\n",
    "data = pd.read_pickle('corpus.pkl')\n",
    "data"
   ]
  },
  {
   "cell_type": "code",
   "execution_count": 6,
   "metadata": {},
   "outputs": [
    {
     "data": {
      "text/html": [
       "<div>\n",
       "<style scoped>\n",
       "    .dataframe tbody tr th:only-of-type {\n",
       "        vertical-align: middle;\n",
       "    }\n",
       "\n",
       "    .dataframe tbody tr th {\n",
       "        vertical-align: top;\n",
       "    }\n",
       "\n",
       "    .dataframe thead th {\n",
       "        text-align: right;\n",
       "    }\n",
       "</style>\n",
       "<table border=\"1\" class=\"dataframe\">\n",
       "  <thead>\n",
       "    <tr style=\"text-align: right;\">\n",
       "      <th></th>\n",
       "      <th>messages</th>\n",
       "      <th>polarity</th>\n",
       "      <th>subjectivity</th>\n",
       "    </tr>\n",
       "  </thead>\n",
       "  <tbody>\n",
       "    <tr>\n",
       "      <th>GI_pré-dissolution</th>\n",
       "      <td>bon année tout 2021 être excellent année tout ...</td>\n",
       "      <td>0.135804</td>\n",
       "      <td>0.172768</td>\n",
       "    </tr>\n",
       "    <tr>\n",
       "      <th>GI_dissolution</th>\n",
       "      <td>darmanin être scandaliser jeune français avoir...</td>\n",
       "      <td>0.078085</td>\n",
       "      <td>0.221045</td>\n",
       "    </tr>\n",
       "    <tr>\n",
       "      <th>TE_pré-dissolution</th>\n",
       "      <td>merci tout rejoindre telegram monopole gafa in...</td>\n",
       "      <td>0.106067</td>\n",
       "      <td>0.234831</td>\n",
       "    </tr>\n",
       "    <tr>\n",
       "      <th>TE_dissolution</th>\n",
       "      <td>souhaiter aider alors être moment agir darmani...</td>\n",
       "      <td>0.144099</td>\n",
       "      <td>0.175116</td>\n",
       "    </tr>\n",
       "    <tr>\n",
       "      <th>TE_post-dissolution</th>\n",
       "      <td>🗣 photo prendre matin alors force ordre bloque...</td>\n",
       "      <td>0.110486</td>\n",
       "      <td>0.239075</td>\n",
       "    </tr>\n",
       "  </tbody>\n",
       "</table>\n",
       "</div>"
      ],
      "text/plain": [
       "                                                              messages  \\\n",
       "GI_pré-dissolution   bon année tout 2021 être excellent année tout ...   \n",
       "GI_dissolution       darmanin être scandaliser jeune français avoir...   \n",
       "TE_pré-dissolution   merci tout rejoindre telegram monopole gafa in...   \n",
       "TE_dissolution       souhaiter aider alors être moment agir darmani...   \n",
       "TE_post-dissolution  🗣 photo prendre matin alors force ordre bloque...   \n",
       "\n",
       "                     polarity  subjectivity  \n",
       "GI_pré-dissolution   0.135804      0.172768  \n",
       "GI_dissolution       0.078085      0.221045  \n",
       "TE_pré-dissolution   0.106067      0.234831  \n",
       "TE_dissolution       0.144099      0.175116  \n",
       "TE_post-dissolution  0.110486      0.239075  "
      ]
     },
     "execution_count": 6,
     "metadata": {},
     "output_type": "execute_result"
    }
   ],
   "source": [
    "from textblob import TextBlob\n",
    "from textblob_fr import PatternAnalyzer\n",
    "\n",
    "pol = lambda x: TextBlob(x, analyzer = PatternAnalyzer()).sentiment[0]\n",
    "sub = lambda x: TextBlob(x, analyzer = PatternAnalyzer()).sentiment[1]\n",
    "\n",
    "data['polarity'] = data['messages'].apply(pol)\n",
    "data['subjectivity'] = data['messages'].apply(sub)\n",
    "data"
   ]
  },
  {
   "cell_type": "code",
   "execution_count": 7,
   "metadata": {},
   "outputs": [],
   "source": [
    "# On visualise le résultat\n",
    "%matplotlib qt \n",
    "import matplotlib.pyplot as plt\n",
    "\n",
    "plt.rcParams['figure.figsize'] = [10, 8]\n",
    "\n",
    "temp_full = ['GI_pré-dissolution','GI_dissolution','TE_pré-dissolution', 'TE_dissolution', 'TE_post-dissolution']\n",
    "\n",
    "for index, nom in enumerate(data.index):\n",
    "    x = data.polarity.loc[nom]\n",
    "    y = data.subjectivity.loc[nom]\n",
    "    plt.scatter(x, y, color='blue')\n",
    "    plt.text(x+.0015, y-.001, temp_full[index], fontsize=7)\n",
    "    plt.xlim(0.05, 0.16) \n",
    "    plt.ylim(0.15, 0.242)\n",
    "    \n",
    "plt.title('Analyse de sentiments', fontsize=20)\n",
    "plt.xlabel('<-- Négatif -------- Positif -->', fontsize=10)\n",
    "plt.ylabel('<-- Faits -------- Opinions -->', fontsize=10)\n",
    "\n",
    "plt.show()"
   ]
  }
 ],
 "metadata": {
  "kernelspec": {
   "display_name": "Python 3",
   "language": "python",
   "name": "python3"
  },
  "language_info": {
   "codemirror_mode": {
    "name": "ipython",
    "version": 3
   },
   "file_extension": ".py",
   "mimetype": "text/x-python",
   "name": "python",
   "nbconvert_exporter": "python",
   "pygments_lexer": "ipython3",
   "version": "3.8.5"
  }
 },
 "nbformat": 4,
 "nbformat_minor": 4
}
